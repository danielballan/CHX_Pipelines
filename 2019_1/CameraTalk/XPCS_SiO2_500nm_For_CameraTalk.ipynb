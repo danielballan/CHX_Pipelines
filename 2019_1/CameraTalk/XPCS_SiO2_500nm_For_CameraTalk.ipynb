{
 "cells": [
  {
   "cell_type": "markdown",
   "metadata": {
    "papermill": {
     "duration": 0.000804,
     "end_time": "2018-09-17T20:23:18.331284",
     "exception": false,
     "start_time": "2018-09-17T20:23:18.330480",
     "status": "completed"
    },
    "tags": []
   },
   "source": [
    "# XPCS&XSVS Pipeline for Single-(Gi)-SAXS Run\n",
    "\"This notebook corresponds to version {{ version }} of the pipeline tool: https://github.com/NSLS-II/pipelines\"\n",
    "\n",
    "This notebook begins with a raw time-series of images and ends with $g_2(t)$ for a range of $q$, fit to an exponential or stretched exponential, and a two-time correlation functoin.\n",
    "\n",
    "## Overview\n",
    "\n",
    "* Setup: load packages/setup path\n",
    "* Load Metadata & Image Data\n",
    "* Apply Mask\n",
    "* Clean Data: shutter open/bad frames\n",
    "* Get Q-Map\n",
    "* Get 1D curve\n",
    "* Define Q-ROI (qr, qz)\n",
    "* Check beam damage\n",
    "* One-time Correlation\n",
    "* Fitting\n",
    "* Two-time Correlation\n",
    "The important scientific code is imported from the [chxanalys](https://github.com/yugangzhang/chxanalys/tree/master/chxanalys) and [scikit-beam](https://github.com/scikit-beam/scikit-beam) project. Refer to chxanalys and scikit-beam for additional documentation and citation information.\n",
    "\n",
    "### DEV\n",
    "* V8: Update visbility error bar calculation using pi = his/N +/- sqrt(his_i)/N\n",
    "*     Update normlization in g2 calculation uing 2D-savitzky golay (SG ) smooth\n",
    "\n",
    "## CHX Olog NoteBook\n",
    "CHX Olog (https://logbook.nsls2.bnl.gov/11-ID/)\n",
    "\n",
    "## Setup\n",
    "\n",
    "Import packages for I/O, visualization, and analysis."
   ]
  },
  {
   "cell_type": "code",
   "execution_count": 1,
   "metadata": {
    "papermill": {
     "duration": 2.29821,
     "end_time": "2018-09-17T20:23:20.805782",
     "exception": false,
     "start_time": "2018-09-17T20:23:18.507572",
     "status": "completed"
    },
    "tags": []
   },
   "outputs": [],
   "source": [
    "from pyCHX.chx_packages import *\n",
    "%matplotlib notebook\n",
    "plt.rcParams.update({'figure.max_open_warning': 0})\n",
    "plt.rcParams.update({ 'image.origin': 'lower'   })\n",
    "plt.rcParams.update({ 'image.interpolation': 'none'   })\n",
    "import pickle as cpk\n",
    "from pyCHX.chx_xpcs_xsvs_jupyter_V1 import *\n",
    "import itertools\n",
    "#from pyCHX.XPCS_SAXS import get_QrQw_From_RoiMask"
   ]
  },
  {
   "cell_type": "code",
   "execution_count": 2,
   "metadata": {},
   "outputs": [],
   "source": [
    "#%run /home/yuzhang/pyCHX_link/pyCHX/chx_generic_functions.py"
   ]
  },
  {
   "cell_type": "code",
   "execution_count": 3,
   "metadata": {
    "papermill": {
     "duration": 0.064512,
     "end_time": "2018-09-17T20:23:20.871410",
     "exception": false,
     "start_time": "2018-09-17T20:23:20.806898",
     "status": "completed"
    },
    "tags": []
   },
   "outputs": [],
   "source": [
    "#%matplotlib notebook\n",
    "%matplotlib inline"
   ]
  },
  {
   "cell_type": "markdown",
   "metadata": {
    "papermill": {
     "duration": 2.9e-05,
     "end_time": "2018-09-17T20:23:21.502387",
     "exception": false,
     "start_time": "2018-09-17T20:23:21.502358",
     "status": "completed"
    },
    "tags": []
   },
   "source": [
    "## Control Runs Here"
   ]
  },
  {
   "cell_type": "code",
   "execution_count": 4,
   "metadata": {
    "papermill": {
     "duration": 0.073513,
     "end_time": "2018-09-17T20:23:21.669380",
     "exception": false,
     "start_time": "2018-09-17T20:23:21.595867",
     "status": "completed"
    },
    "tags": []
   },
   "outputs": [],
   "source": [
    "scat_geometry = 'saxs'  #suport 'saxs', 'gi_saxs', 'ang_saxs' (for anisotropics saxs or flow-xpcs)\n",
    "#scat_geometry = 'ang_saxs' \n",
    "#scat_geometry = 'gi_waxs' \n",
    "#scat_geometry = 'gi_saxs'\n",
    "\n",
    "analysis_type_auto = True #if True, will take \"analysis type\" option from data acquisition func series\n",
    "qphi_analysis = False  #if True, will do q-phi (anisotropic analysis for transmission saxs)\n",
    "\n",
    "isotropic_Q_mask = 'normal' #'wide' # 'normal' # 'wide'  ## select wich Q-mask to use for rings: 'normal' or 'wide'\n",
    "phi_Q_mask = 'phi_4x_20deg'   ## select wich Q-mask to use for phi analysis\n",
    "q_mask_name = ''\n",
    "\n",
    "force_compress = False #True   #force to compress data \n",
    "bin_frame = False   #generally make bin_frame as False\n",
    "para_compress = True    #parallel compress\n",
    "run_fit_form = False    #run fit form factor \n",
    "run_waterfall =  False #True   #run waterfall analysis\n",
    "run_profile_plot = False  #run prolfile plot for gi-saxs\n",
    "run_t_ROI_Inten = True  #run  ROI intensity as a function of time\n",
    "run_get_mass_center = False  # Analysis for mass center of reflective beam center\n",
    "run_invariant_analysis = False\n",
    "run_one_time =  True  #run  one-time\n",
    "cal_g2_error =  False  #True  #calculate g2 signal to noise\n",
    "#run_fit_g2 = True       #run  fit one-time, the default function is \"stretched exponential\"\n",
    "fit_g2_func = 'stretched'\n",
    "run_two_time =   False    #run  two-time\n",
    "run_four_time = False #True #True #False   #run  four-time\n",
    "run_xsvs=  False #False         #run visibility analysis\n",
    "att_pdf_report = True    #attach the pdf report to CHX olog\n",
    "qth_interest = 1 #the intested single qth             \n",
    "use_sqnorm = True    #if True, use sq to normalize intensity\n",
    "use_SG = True # False        #if True, use the Sawitzky-Golay filter for <I(pix)>\n",
    "use_imgsum_norm= True  #if True use imgsum to normalize intensity for one-time calculatoin\n",
    "pdf_version='_%s'%get_today_date()     #for pdf report name\n",
    "run_dose =  False #True # True #False  #run dose_depend analysis\n",
    "\n",
    "\n",
    "\n",
    "if scat_geometry == 'gi_saxs':run_xsvs= False;use_sqnorm=False\n",
    "if scat_geometry == 'gi_waxs':use_sqnorm = False\n",
    "if scat_geometry != 'saxs':qphi_analysis = False;scat_geometry_ = scat_geometry  \n",
    "else:scat_geometry_ = ['','ang_'][qphi_analysis]+ scat_geometry   \n",
    "if scat_geometry != 'gi_saxs':run_profile_plot = False"
   ]
  },
  {
   "cell_type": "code",
   "execution_count": 5,
   "metadata": {
    "papermill": {
     "duration": 0.067029,
     "end_time": "2018-09-17T20:23:21.760862",
     "exception": false,
     "start_time": "2018-09-17T20:23:21.693833",
     "status": "completed"
    },
    "tags": []
   },
   "outputs": [
    {
     "data": {
      "text/plain": [
       "'saxs'"
      ]
     },
     "execution_count": 5,
     "metadata": {},
     "output_type": "execute_result"
    }
   ],
   "source": [
    "scat_geometry"
   ]
  },
  {
   "cell_type": "code",
   "execution_count": 6,
   "metadata": {
    "papermill": {
     "duration": 0.071312,
     "end_time": "2018-09-17T20:23:21.864806",
     "exception": false,
     "start_time": "2018-09-17T20:23:21.793494",
     "status": "completed"
    },
    "tags": []
   },
   "outputs": [],
   "source": [
    "taus=None;g2=None;tausb=None;g2b=None;g12b=None;taus4=None;g4=None;times_xsv=None;contrast_factorL=None; lag_steps = None "
   ]
  },
  {
   "cell_type": "markdown",
   "metadata": {
    "papermill": {
     "duration": 2.9e-05,
     "end_time": "2018-09-17T20:23:21.891540",
     "exception": false,
     "start_time": "2018-09-17T20:23:21.891511",
     "status": "completed"
    },
    "tags": []
   },
   "source": [
    "## Make a directory for saving results"
   ]
  },
  {
   "cell_type": "code",
   "execution_count": 7,
   "metadata": {
    "papermill": {
     "duration": 0.04665,
     "end_time": "2018-09-17T20:23:22.032306",
     "exception": false,
     "start_time": "2018-09-17T20:23:21.985656",
     "status": "completed"
    },
    "tags": []
   },
   "outputs": [],
   "source": [
    "CYCLE= '2019_1'  #change clycle here\n",
    "path = '/XF11ID/analysis/%s/masks/'%CYCLE"
   ]
  },
  {
   "cell_type": "markdown",
   "metadata": {
    "papermill": {
     "duration": 2.9e-05,
     "end_time": "2018-09-17T20:23:22.087029",
     "exception": false,
     "start_time": "2018-09-17T20:23:22.087000",
     "status": "completed"
    },
    "tags": []
   },
   "source": [
    "## Load Metadata & Image Data\n",
    "\n"
   ]
  },
  {
   "cell_type": "markdown",
   "metadata": {
    "papermill": {
     "duration": 2.8e-05,
     "end_time": "2018-09-17T20:23:22.181469",
     "exception": false,
     "start_time": "2018-09-17T20:23:22.181441",
     "status": "completed"
    },
    "tags": []
   },
   "source": [
    "### Change this line to give a uid"
   ]
  },
  {
   "cell_type": "code",
   "execution_count": 8,
   "metadata": {
    "papermill": {
     "duration": 0.06614,
     "end_time": "2018-09-17T20:23:22.342078",
     "exception": false,
     "start_time": "2018-09-17T20:23:22.275938",
     "status": "completed"
    },
    "tags": [
     "parameters"
    ]
   },
   "outputs": [],
   "source": [
    "username      =  getpass.getuser()\n",
    "run_two_time  =   False \n",
    "run_dose      =   False \n",
    "\n",
    "uid = '7095d1b4' ##Fri Feb 24 12:38:04 2017 #17400: approx. 9kHz 30k (mbs:.1x.4) energy threshold: +30%C3: SiO2 500nm in water--  7095d1b4-53a4-4104-836e-be43c8d476ad \t\t\t\t\t\t\t\t\n",
    "\n",
    "\n",
    "\n",
    "\n",
    "\n"
   ]
  },
  {
   "cell_type": "code",
   "execution_count": 9,
   "metadata": {},
   "outputs": [
    {
     "name": "stdout",
     "output_type": "stream",
     "text": [
      "Results from this analysis will be stashed in the directory /XF11ID/analysis/2019_1/yuzhang/Results/\n",
      "/XF11ID/analysis/2019_1/yuzhang/Results/\n"
     ]
    }
   ],
   "source": [
    "data_dir0  = create_user_folder(CYCLE, username)\n",
    "print( data_dir0 )"
   ]
  },
  {
   "cell_type": "code",
   "execution_count": 10,
   "metadata": {
    "papermill": {
     "duration": 0.09782,
     "end_time": "2018-09-17T20:23:22.572357",
     "exception": false,
     "start_time": "2018-09-17T20:23:22.474537",
     "status": "completed"
    },
    "tags": []
   },
   "outputs": [
    {
     "name": "stdout",
     "output_type": "stream",
     "text": [
      "The current uid for analysis is: 7095d1b4...\n"
     ]
    }
   ],
   "source": [
    "uid = uid[:8]\n",
    "print('The current uid for analysis is: %s...'%uid)"
   ]
  },
  {
   "cell_type": "code",
   "execution_count": 11,
   "metadata": {
    "papermill": {
     "duration": 0.061702,
     "end_time": "2018-09-17T20:23:22.634272",
     "exception": false,
     "start_time": "2018-09-17T20:23:22.572570",
     "status": "completed"
    },
    "scrolled": false,
    "tags": []
   },
   "outputs": [],
   "source": [
    "#get_last_uids( -1)"
   ]
  },
  {
   "cell_type": "code",
   "execution_count": 12,
   "metadata": {
    "papermill": {
     "duration": 0.399845,
     "end_time": "2018-09-17T20:23:23.071956",
     "exception": false,
     "start_time": "2018-09-17T20:23:22.672111",
     "status": "completed"
    },
    "tags": []
   },
   "outputs": [
    {
     "name": "stdout",
     "output_type": "stream",
     "text": [
      "filepath : /XF11ID/data/2017/02/24/ae97979b-6170-419e-b3b8\n",
      "got images_per_file\n",
      "scan_id, full-uid, data path are:  17400--7095d1b4-53a4-4104-836e-be43c8d476ad--/XF11ID/data/2017/02/24/ae97979b-6170-419e-b3b8_39_master.h5\n"
     ]
    }
   ],
   "source": [
    "sud = get_sid_filenames(db[uid])\n",
    "for pa in sud[2]:\n",
    "    if 'master.h5' in pa:\n",
    "        data_fullpath = pa\n",
    "print ('scan_id, full-uid, data path are:  %s--%s--%s'%(sud[0], sud[1], data_fullpath ))\n",
    "\n",
    "#start_time, stop_time = '2017-2-24  12:23:00', '2017-2-24  13:42:00' \n",
    "#sids, uids, fuids  = find_uids(start_time, stop_time)"
   ]
  },
  {
   "cell_type": "code",
   "execution_count": 13,
   "metadata": {
    "papermill": {
     "duration": 0.056497,
     "end_time": "2018-09-17T20:23:23.129590",
     "exception": false,
     "start_time": "2018-09-17T20:23:23.073093",
     "status": "completed"
    },
    "tags": []
   },
   "outputs": [
    {
     "name": "stdout",
     "output_type": "stream",
     "text": [
      "Results from this analysis will be stashed in the directory /XF11ID/analysis/2019_1/yuzhang/Results/7095d1b4-53a4-4104-836e-be43c8d476ad/\n"
     ]
    }
   ],
   "source": [
    "data_dir = os.path.join(data_dir0, '%s/'%(sud[1]))\n",
    "os.makedirs(data_dir, exist_ok=True)\n",
    "print('Results from this analysis will be stashed in the directory %s' % data_dir)\n",
    "uidstr = 'uid=%s'%uid"
   ]
  },
  {
   "cell_type": "markdown",
   "metadata": {
    "papermill": {
     "duration": 2.9e-05,
     "end_time": "2018-09-17T20:23:23.259225",
     "exception": false,
     "start_time": "2018-09-17T20:23:23.259196",
     "status": "completed"
    },
    "tags": []
   },
   "source": [
    "# Don't Change the lines below here"
   ]
  },
  {
   "cell_type": "markdown",
   "metadata": {
    "papermill": {
     "duration": 3.2e-05,
     "end_time": "2018-09-17T20:23:23.435852",
     "exception": false,
     "start_time": "2018-09-17T20:23:23.435820",
     "status": "completed"
    },
    "tags": []
   },
   "source": [
    "* get metadata"
   ]
  },
  {
   "cell_type": "code",
   "execution_count": 14,
   "metadata": {
    "papermill": {
     "duration": 0.317064,
     "end_time": "2018-09-17T20:23:23.847595",
     "exception": false,
     "start_time": "2018-09-17T20:23:23.530531",
     "status": "completed"
    },
    "tags": []
   },
   "outputs": [],
   "source": [
    "md = get_meta_data( uid )\n",
    "md_blue = md.copy()\n",
    "#md_blue"
   ]
  },
  {
   "cell_type": "code",
   "execution_count": 15,
   "metadata": {
    "papermill": {
     "duration": 0.039026,
     "end_time": "2018-09-17T20:23:23.887672",
     "exception": false,
     "start_time": "2018-09-17T20:23:23.848646",
     "status": "completed"
    },
    "tags": []
   },
   "outputs": [],
   "source": [
    "#md_blue['detectors'][0]\n",
    "#if md_blue['OAV_mode'] != 'none':\n",
    "#    cx , cy = md_blue[md_blue['detectors'][0]+'_beam_center_x'], md_blue[md_blue['detectors'][0]+'_beam_center_x']\n",
    "#else: \n",
    "#    cx , cy = md_blue['beam_center_x'], md_blue['beam_center_y']\n",
    "#print(cx,cy)"
   ]
  },
  {
   "cell_type": "code",
   "execution_count": 16,
   "metadata": {
    "papermill": {
     "duration": 0.246837,
     "end_time": "2018-09-17T20:23:24.281229",
     "exception": false,
     "start_time": "2018-09-17T20:23:24.034392",
     "status": "completed"
    },
    "tags": []
   },
   "outputs": [
    {
     "name": "stdout",
     "output_type": "stream",
     "text": [
      "The detectors are:['eiger500K_single_image']\n"
     ]
    }
   ],
   "source": [
    "detectors = sorted(get_detectors(db[uid]))\n",
    "print('The detectors are:%s'%detectors)\n",
    "if len(detectors) >1:\n",
    "    md['detector'] = detectors[1]\n",
    "    print( md['detector'])\n"
   ]
  },
  {
   "cell_type": "code",
   "execution_count": 17,
   "metadata": {
    "papermill": {
     "duration": 0.143861,
     "end_time": "2018-09-17T20:23:24.426194",
     "exception": false,
     "start_time": "2018-09-17T20:23:24.282333",
     "status": "completed"
    },
    "tags": []
   },
   "outputs": [
    {
     "name": "stdout",
     "output_type": "stream",
     "text": [
      "Image reverse: True\n",
      "Image rotate 90: True\n"
     ]
    }
   ],
   "source": [
    "if md['detector'] =='eiger4m_single_image' or md['detector'] == 'image':    \n",
    "    reverse= True\n",
    "    rot90= False\n",
    "elif md['detector'] =='eiger500K_single_image':    \n",
    "    reverse= True\n",
    "    rot90=True\n",
    "elif md['detector'] =='eiger1m_single_image':    \n",
    "    reverse= True\n",
    "    rot90=False\n",
    "print('Image reverse: %s\\nImage rotate 90: %s'%(reverse, rot90))    "
   ]
  },
  {
   "cell_type": "code",
   "execution_count": 18,
   "metadata": {
    "papermill": {
     "duration": 0.181391,
     "end_time": "2018-09-17T20:23:24.633718",
     "exception": false,
     "start_time": "2018-09-17T20:23:24.452327",
     "status": "completed"
    },
    "tags": []
   },
   "outputs": [
    {
     "name": "stdout",
     "output_type": "stream",
     "text": [
      "513.0 160.0\n"
     ]
    }
   ],
   "source": [
    "try:\n",
    "    cx , cy = md_blue['beam_center_x'], md_blue['beam_center_y']\n",
    "    print(cx,cy)\n",
    "except:\n",
    "    print('Will find cx,cy later.')\n"
   ]
  },
  {
   "cell_type": "markdown",
   "metadata": {
    "papermill": {
     "duration": 3.1e-05,
     "end_time": "2018-09-17T20:23:24.640099",
     "exception": false,
     "start_time": "2018-09-17T20:23:24.640068",
     "status": "completed"
    },
    "tags": []
   },
   "source": [
    "### Load ROI defined by \"XPCS_Setup\" Pipeline"
   ]
  },
  {
   "cell_type": "markdown",
   "metadata": {
    "papermill": {
     "duration": 3e-05,
     "end_time": "2018-09-17T20:23:24.815504",
     "exception": false,
     "start_time": "2018-09-17T20:23:24.815474",
     "status": "completed"
    },
    "tags": []
   },
   "source": [
    "#### Define data analysis type"
   ]
  },
  {
   "cell_type": "code",
   "execution_count": 19,
   "metadata": {
    "papermill": {
     "duration": 0.068984,
     "end_time": "2018-09-17T20:23:24.979827",
     "exception": false,
     "start_time": "2018-09-17T20:23:24.910843",
     "status": "completed"
    },
    "tags": []
   },
   "outputs": [
    {
     "name": "stdout",
     "output_type": "stream",
     "text": [
      "There is no analysis in metadata.\n",
      "Will NOT DO qphis analysis.\n",
      "saxs\n"
     ]
    }
   ],
   "source": [
    "if analysis_type_auto:#if True, will take \"analysis type\" option from data acquisition func series\n",
    "    try:\n",
    "        qphi_analysis_ = md['analysis'] #if True, will do q-phi (anisotropic analysis for transmission saxs)\n",
    "        print(md['analysis'])\n",
    "        if qphi_analysis_ == 'iso':\n",
    "            qphi_analysis = False\n",
    "        elif qphi_analysis_ == '':\n",
    "            qphi_analysis = False\n",
    "        else:\n",
    "            qphi_analysis = True\n",
    "    except:\n",
    "        print('There is no analysis in metadata.')\n",
    "        \n",
    "print('Will %s qphis analysis.'%['NOT DO','DO'][qphi_analysis]) \n",
    "\n",
    "if scat_geometry != 'saxs':qphi_analysis = False;scat_geometry_ = scat_geometry  \n",
    "else:scat_geometry_ = ['','ang_'][qphi_analysis]+ scat_geometry   \n",
    "if scat_geometry != 'gi_saxs':run_profile_plot = False \n",
    "print(scat_geometry_)    "
   ]
  },
  {
   "cell_type": "code",
   "execution_count": 20,
   "metadata": {
    "papermill": {
     "duration": 0.083163,
     "end_time": "2018-09-17T20:23:25.092975",
     "exception": false,
     "start_time": "2018-09-17T20:23:25.009812",
     "status": "completed"
    },
    "tags": []
   },
   "outputs": [
    {
     "data": {
      "text/plain": [
       "'saxs'"
      ]
     },
     "execution_count": 20,
     "metadata": {},
     "output_type": "execute_result"
    }
   ],
   "source": [
    "scat_geometry"
   ]
  },
  {
   "cell_type": "markdown",
   "metadata": {
    "papermill": {
     "duration": 2.8e-05,
     "end_time": "2018-09-17T20:23:25.107995",
     "exception": false,
     "start_time": "2018-09-17T20:23:25.107967",
     "status": "completed"
    },
    "tags": []
   },
   "source": [
    "#### Load ROI mask depending on data analysis type"
   ]
  },
  {
   "cell_type": "code",
   "execution_count": 21,
   "metadata": {
    "papermill": {
     "duration": 0.11574,
     "end_time": "2018-09-17T20:23:25.316053",
     "exception": false,
     "start_time": "2018-09-17T20:23:25.200313",
     "status": "completed"
    },
    "tags": []
   },
   "outputs": [
    {
     "name": "stdout",
     "output_type": "stream",
     "text": [
      "(1030, 514)\n"
     ]
    }
   ],
   "source": [
    "##For SAXS \n",
    "roi_path = '/XF11ID/analysis/2019_1/masks/'\n",
    "roi_date = 'Feb6'\n",
    "\n",
    "if scat_geometry =='saxs':\n",
    "    if qphi_analysis ==  False:\n",
    "        if isotropic_Q_mask == 'normal':\n",
    "            #print('Here')\n",
    "            q_mask_name='rings'\n",
    "            if md['detector'] =='eiger4m_single_image' or md['detector'] == 'image': #for 4M \n",
    "                fp = roi_path + 'roi_mask_%s_4M_norm.pkl'%roi_date                 \n",
    "                \n",
    "            elif md['detector'] =='eiger500K_single_image': #for 500K   \n",
    "                fp = roi_path + 'roi_mask_%s_500K_norm.pkl'%roi_date   \n",
    "                fp = '/home/yuzhang/XScattering/CameraTalk/Results/roi_mask_SiO2500nm_500K_SR16Rings.pkl'\n",
    "                \n",
    "        elif isotropic_Q_mask == 'wide':\n",
    "            q_mask_name='wide_rings'\n",
    "            if md['detector'] =='eiger4m_single_image' or md['detector'] == 'image': #for 4M   \n",
    "                fp = roi_path + 'roi_mask_%s_4M_wide.pkl'%roi_date   \n",
    "            elif md['detector'] =='eiger500K_single_image': #for 500K   \n",
    "                fp = roi_path + 'roi_mask_%s_500K_wide.pkl'%roi_date   \n",
    "                   \n",
    "\n",
    "    elif qphi_analysis:\n",
    "        if phi_Q_mask =='phi_4x_20deg':\n",
    "            q_mask_name='phi_4x_20deg'\n",
    "            if md['detector'] =='eiger4m_single_image' or md['detector'] == 'image': #for 4M \n",
    "                fp = roi_path + 'roi_mask_%s_4M_phi_4x_20deg.pkl'%roi_date   \n",
    "            elif md['detector'] =='eiger500K_single_image': #for 500K \n",
    "                fp = roi_path + 'roi_mask_%s_500K_phi_4x_20deg.pkl'%roi_date   \n",
    "                                         \n",
    "            \n",
    "    #fp = 'XXXXXXX.pkl'            \n",
    "    roi_mask,qval_dict = cpk.load( open(fp, 'rb' )  )  #for load the saved roi data\n",
    "    #print(fp)\n",
    "\n",
    "## Gi_SAXS \n",
    "elif scat_geometry =='gi_saxs':    \n",
    "    # dynamics mask\n",
    "    fp = '/XF11ID/analysis/2018_2/masks/uid=460a2a3a_roi_mask.pkl' \n",
    "    roi_mask,qval_dict = cpk.load( open(fp, 'rb' )  )  #for load the saved roi data\n",
    "    print('The dynamic mask is: %s.'%fp)\n",
    "    # static mask\n",
    "    fp = '/XF11ID/analysis/2018_2/masks/uid=460a2a3a_roi_masks.pkl'\n",
    "    roi_masks,qval_dicts = cpk.load( open(fp, 'rb' )  )  #for load the saved roi data    \n",
    "    print('The static mask is: %s.'%fp)\n",
    "    # q-map\n",
    "    fp = '/XF11ID/analysis/2018_2/masks/uid=460a2a3a_qmap.pkl'\n",
    "    #print(fp)\n",
    "    qr_map, qz_map, ticks, Qrs, Qzs,  Qr, Qz, inc_x0,refl_x0, refl_y0 = cpk.load( open(fp, 'rb' )  )\n",
    "    print('The qmap is: %s.'%fp)\n",
    "    \n",
    "\n",
    "## WAXS \n",
    "elif scat_geometry =='gi_waxs': \n",
    "    fp = '/XF11ID/analysis/2018_2/masks/uid=db5149a1_roi_mask.pkl'      \n",
    "    roi_mask,qval_dict = cpk.load( open(fp, 'rb' )  )  #for load the saved roi data\n",
    "\n",
    "print(roi_mask.shape)"
   ]
  },
  {
   "cell_type": "code",
   "execution_count": 22,
   "metadata": {
    "papermill": {
     "duration": 0.066409,
     "end_time": "2018-09-17T20:23:25.445752",
     "exception": false,
     "start_time": "2018-09-17T20:23:25.379343",
     "status": "completed"
    },
    "tags": []
   },
   "outputs": [],
   "source": [
    "#qval_dict"
   ]
  },
  {
   "cell_type": "code",
   "execution_count": 23,
   "metadata": {
    "papermill": {
     "duration": 0.179453,
     "end_time": "2018-09-17T20:23:25.748804",
     "exception": false,
     "start_time": "2018-09-17T20:23:25.569351",
     "status": "completed"
    },
    "tags": []
   },
   "outputs": [
    {
     "name": "stderr",
     "output_type": "stream",
     "text": [
      "/opt/conda_envs/analysis-2019-1.2-chx/lib/python3.6/site-packages/matplotlib/figure.py:2359: UserWarning: This figure includes Axes that are not compatible with tight_layout, so results might be incorrect.\n",
      "  warnings.warn(\"This figure includes Axes that are not compatible \"\n"
     ]
    },
    {
     "data": {
      "image/png": "[encoded data removed]",
      "text/plain": [
       "<Figure size 432x288 with 2 Axes>"
      ]
     },
     "metadata": {
      "needs_background": "light"
     },
     "output_type": "display_data"
    }
   ],
   "source": [
    "#roi_mask = shift_mask(roi_mask, 10,30)  #if shift mask to get new mask\n",
    "show_img(roi_mask, aspect=1.0, image_name = fp)#, center=center[::-1])\n"
   ]
  },
  {
   "cell_type": "code",
   "execution_count": 24,
   "metadata": {
    "papermill": {
     "duration": 0.092616,
     "end_time": "2018-09-17T20:23:25.866338",
     "exception": false,
     "start_time": "2018-09-17T20:23:25.773722",
     "status": "completed"
    },
    "tags": []
   },
   "outputs": [],
   "source": [
    "#%run /home/yuzhang/pyCHX_link/pyCHX/chx_generic_functions.py"
   ]
  },
  {
   "cell_type": "markdown",
   "metadata": {
    "papermill": {
     "duration": 3e-05,
     "end_time": "2018-09-17T20:23:25.971205",
     "exception": false,
     "start_time": "2018-09-17T20:23:25.971175",
     "status": "completed"
    },
    "tags": []
   },
   "source": [
    "* get data"
   ]
  },
  {
   "cell_type": "code",
   "execution_count": 25,
   "metadata": {
    "papermill": {
     "duration": 1.041063,
     "end_time": "2018-09-17T20:23:27.153099",
     "exception": false,
     "start_time": "2018-09-17T20:23:26.112036",
     "status": "completed"
    },
    "tags": []
   },
   "outputs": [
    {
     "name": "stderr",
     "output_type": "stream",
     "text": [
      "/opt/conda_envs/analysis-2019-1.2-chx/lib/python3.6/site-packages/h5py/_hl/dataset.py:313: H5pyDeprecationWarning: dataset.value has been deprecated. Use dataset[()] instead.\n",
      "  \"Use dataset[()] instead.\", H5pyDeprecationWarning)\n"
     ]
    },
    {
     "name": "stdout",
     "output_type": "stream",
     "text": [
      "The data are: Pipeline processed through proc_func. Original repr:\n",
      "    Pipeline processed through proc_func. Original repr:\n",
      "        EigerImages processed through proc_func. Original repr:\n",
      "            <Frames>\n",
      "            Length: 30000 frames\n",
      "            Frame Shape: 514 x 1030\n",
      "            Pixel Datatype: uint16\n"
     ]
    }
   ],
   "source": [
    "imgs = load_data( uid, md['detector'], reverse= reverse, rot90=rot90  )\n",
    "md.update( imgs.md );Nimg = len(imgs);\n",
    "#md['beam_center_x'], md['beam_center_y']  = cx, cy\n",
    "#if 'number of images'  not in list(md.keys()):\n",
    "md['number of images']  = Nimg\n",
    "pixel_mask =  1- np.int_( np.array( imgs.md['pixel_mask'], dtype= bool)  )\n",
    "print( 'The data are: %s' %imgs )\n",
    "\n",
    "#md['acquire period' ] = md['cam_acquire_period']\n",
    "#md['exposure time'] =  md['cam_acquire_time']\n",
    "mdn = md.copy()\n"
   ]
  },
  {
   "cell_type": "markdown",
   "metadata": {
    "papermill": {
     "duration": 2.9e-05,
     "end_time": "2018-09-17T20:23:27.154286",
     "exception": false,
     "start_time": "2018-09-17T20:23:27.154257",
     "status": "completed"
    },
    "tags": []
   },
   "source": [
    "#### Load Chip mask depeding on detector"
   ]
  },
  {
   "cell_type": "code",
   "execution_count": 26,
   "metadata": {
    "papermill": {
     "duration": 0.055823,
     "end_time": "2018-09-17T20:23:27.384000",
     "exception": false,
     "start_time": "2018-09-17T20:23:27.328177",
     "status": "completed"
    },
    "tags": []
   },
   "outputs": [
    {
     "name": "stdout",
     "output_type": "stream",
     "text": [
      "(1030, 514) (1030, 514)\n"
     ]
    }
   ],
   "source": [
    "if md['detector'] =='eiger1m_single_image':\n",
    "    Chip_Mask=np.load( '/XF11ID/analysis/2017_1/masks/Eiger1M_Chip_Mask.npy')\n",
    "elif md['detector'] =='eiger4m_single_image' or md['detector'] == 'image':    \n",
    "    Chip_Mask= np.array(np.load( '/XF11ID/analysis/2017_1/masks/Eiger4M_chip_mask.npy'), dtype=bool)\n",
    "    BadPix =     np.load('/XF11ID/analysis/2018_1/BadPix_4M.npy'  )  \n",
    "    Chip_Mask.ravel()[BadPix] = 0\n",
    "elif md['detector'] =='eiger500K_single_image':\n",
    "    #print('here')\n",
    "    Chip_Mask=  np.load( '/XF11ID/analysis/2017_1/masks/Eiger500K_Chip_Mask.npy')  #to be defined the chip mask\n",
    "    Chip_Mask = np.rot90(Chip_Mask)\n",
    "    pixel_mask = np.rot90(  1- np.int_( np.array( imgs.md['pixel_mask'], dtype= bool))   )\n",
    "    \n",
    "else:\n",
    "    Chip_Mask = 1\n",
    "print(Chip_Mask.shape, pixel_mask.shape)"
   ]
  },
  {
   "cell_type": "code",
   "execution_count": 27,
   "metadata": {
    "papermill": {
     "duration": 0.041168,
     "end_time": "2018-09-17T20:23:27.478681",
     "exception": false,
     "start_time": "2018-09-17T20:23:27.437513",
     "status": "completed"
    },
    "tags": []
   },
   "outputs": [],
   "source": [
    "use_local_disk = True\n",
    "import shutil,glob"
   ]
  },
  {
   "cell_type": "code",
   "execution_count": 28,
   "metadata": {
    "papermill": {
     "duration": 0.09791,
     "end_time": "2018-09-17T20:23:27.641264",
     "exception": false,
     "start_time": "2018-09-17T20:23:27.543354",
     "status": "completed"
    },
    "scrolled": false,
    "tags": []
   },
   "outputs": [],
   "source": [
    "save_oavs = False\n",
    "if len(detectors)==2:\n",
    "    if '_image' in md['detector']:\n",
    "        pref = md['detector'][:-5]\n",
    "    else:\n",
    "        pref=md['detector']\n",
    "    for k in [ 'beam_center_x', 'beam_center_y','cam_acquire_time','cam_acquire_period','cam_num_images',\n",
    "             'wavelength', 'det_distance', 'photon_energy']:\n",
    "        md[k] =  md[ pref + '%s'%k]    \n",
    "    \n",
    "    if 'OAV_image' in detectors:\n",
    "        try:\n",
    "            save_oavs_tifs(  uid, data_dir )\n",
    "            save_oavs = True\n",
    "        except:\n",
    "            pass\n",
    "        "
   ]
  },
  {
   "cell_type": "code",
   "execution_count": 29,
   "metadata": {
    "papermill": {
     "duration": 0.08356,
     "end_time": "2018-09-17T20:23:27.738968",
     "exception": false,
     "start_time": "2018-09-17T20:23:27.655408",
     "status": "completed"
    },
    "tags": []
   },
   "outputs": [
    {
     "name": "stdout",
     "output_type": "stream",
     "text": [
      "suid--> 7095d1b4\n",
      "number of images--> 30000\n",
      "uid--> 7095d1b4-53a4-4104-836e-be43c8d476ad\n",
      "scan_id--> 17400\n",
      "start_time--> 2017-02-24 12:38:04\n",
      "stop_time--> 2017-02-24 12:44:28\n",
      "sample--> C3: SiO2 500nm in water\n",
      "Measurement--> approx. 9kHz 30k (mbs:.1x.4) energy threshold: +30%C3: SiO2 500nm in water\n",
      "det_distance--> 16.718\n",
      "beam_center_x--> 513.0\n",
      "beam_center_y--> 160.0\n"
     ]
    }
   ],
   "source": [
    "print_dict( md,  ['suid', 'number of images', 'uid', 'scan_id', 'start_time', 'stop_time', 'sample', 'Measurement',\n",
    "                  'acquire period', 'exposure time',  \n",
    "         'det_distance', 'beam_center_x', 'beam_center_y', ] )"
   ]
  },
  {
   "cell_type": "markdown",
   "metadata": {
    "papermill": {
     "duration": 2.9e-05,
     "end_time": "2018-09-17T20:23:27.769513",
     "exception": false,
     "start_time": "2018-09-17T20:23:27.769484",
     "status": "completed"
    },
    "tags": []
   },
   "source": [
    "## Overwrite Some Metadata if Wrong Input"
   ]
  },
  {
   "cell_type": "markdown",
   "metadata": {
    "papermill": {
     "duration": 2.8e-05,
     "end_time": "2018-09-17T20:23:27.875118",
     "exception": false,
     "start_time": "2018-09-17T20:23:27.875090",
     "status": "completed"
    },
    "tags": []
   },
   "source": [
    "### Define incident beam center (also define reflection beam center for gisaxs)"
   ]
  },
  {
   "cell_type": "code",
   "execution_count": 30,
   "metadata": {
    "papermill": {
     "duration": 1.018216,
     "end_time": "2018-09-17T20:23:28.995391",
     "exception": false,
     "start_time": "2018-09-17T20:23:27.977175",
     "status": "completed"
    },
    "tags": []
   },
   "outputs": [
    {
     "name": "stdout",
     "output_type": "stream",
     "text": [
      "517.0 354.0\n"
     ]
    }
   ],
   "source": [
    "if scat_geometry =='gi_saxs':\n",
    "    inc_x0 =  md['beam_center_x'] \n",
    "    inc_y0 =  imgs[0].shape[0] - md['beam_center_y']     \n",
    "    refl_x0 =     md['beam_center_x']  \n",
    "    refl_y0 =     1000     #imgs[0].shape[0] -  1758  \n",
    "    \n",
    "    print( \"inc_x0, inc_y0, ref_x0,ref_y0 are: %s %s %s %s.\"%(inc_x0, inc_y0, refl_x0, refl_y0) )\n",
    "else:\n",
    "    if md['detector'] =='eiger4m_single_image' or md['detector'] == 'image' or md['detector']=='eiger1m_single_image':    \n",
    "        inc_x0 =  imgs[0].shape[0] - md['beam_center_y']   \n",
    "        inc_y0=   md['beam_center_x']\n",
    "    elif md['detector'] =='eiger500K_single_image':    \n",
    "        inc_y0 =  imgs[0].shape[1] - md['beam_center_y']   \n",
    "        inc_x0 =   imgs[0].shape[0] - md['beam_center_x']\n",
    "    \n",
    "    print(inc_x0, inc_y0)\n",
    "    ###for this particular uid, manually give x0/y0\n",
    "    #inc_x0 = 1041\n",
    "    #inc_y0 = 1085"
   ]
  },
  {
   "cell_type": "code",
   "execution_count": 31,
   "metadata": {
    "papermill": {
     "duration": 0.078813,
     "end_time": "2018-09-17T20:23:29.075197",
     "exception": false,
     "start_time": "2018-09-17T20:23:28.996384",
     "status": "completed"
    },
    "tags": []
   },
   "outputs": [
    {
     "name": "stdout",
     "output_type": "stream",
     "text": [
      "Beam_center_x has been changed to 354.0. (no change in raw metadata): \n",
      "Beam_center_y has been changed to 517.0.  (no change in raw metadata): \n",
      "uid--> uid=7095d1b4\n",
      "dpix--> 0.07500000356230885\n",
      "Ldet--> 16718.0\n",
      "lambda_--> 1.2849434614181519\n",
      "exposuretime--> 1e-04\n",
      "timeperframe--> 0.000112\n",
      "center--> [517, 354]\n",
      "path--> /XF11ID/analysis/2019_1/yuzhang/Results/7095d1b4-53a4-4104-836e-be43c8d476ad/\n"
     ]
    }
   ],
   "source": [
    "dpix, lambda_, Ldet,  exposuretime, timeperframe, center = check_lost_metadata(\n",
    "    md, Nimg, inc_x0 = inc_x0, inc_y0=   inc_y0, pixelsize = 7.5*10*(-5) )\n",
    "if scat_geometry =='gi_saxs':center=center[::-1]\n",
    "setup_pargs=dict(uid=uidstr, dpix= dpix, Ldet=Ldet, lambda_= lambda_, exposuretime=exposuretime,\n",
    "        timeperframe=timeperframe, center=center, path= data_dir)\n",
    "print_dict( setup_pargs )\n"
   ]
  },
  {
   "cell_type": "code",
   "execution_count": 32,
   "metadata": {
    "papermill": {
     "duration": 0.073899,
     "end_time": "2018-09-17T20:23:29.263576",
     "exception": false,
     "start_time": "2018-09-17T20:23:29.189677",
     "status": "completed"
    },
    "tags": []
   },
   "outputs": [
    {
     "data": {
      "text/plain": [
       "{'uid': 'uid=7095d1b4',\n",
       " 'dpix': 0.07500000356230885,\n",
       " 'Ldet': 16718.0,\n",
       " 'lambda_': 1.2849434614181519,\n",
       " 'exposuretime': 1e-04,\n",
       " 'timeperframe': 0.000112,\n",
       " 'center': [517, 354],\n",
       " 'path': '/XF11ID/analysis/2019_1/yuzhang/Results/7095d1b4-53a4-4104-836e-be43c8d476ad/'}"
      ]
     },
     "execution_count": 32,
     "metadata": {},
     "output_type": "execute_result"
    }
   ],
   "source": [
    "setup_pargs"
   ]
  },
  {
   "cell_type": "markdown",
   "metadata": {
    "papermill": {
     "duration": 2.9e-05,
     "end_time": "2018-09-17T20:23:29.299152",
     "exception": false,
     "start_time": "2018-09-17T20:23:29.299123",
     "status": "completed"
    },
    "tags": []
   },
   "source": [
    "## Apply Mask\n",
    "* load and plot mask if exist \n",
    "* otherwise create a mask using Mask pipeline\n",
    "* Reverse the mask in y-direction due to the coordination difference between python and Eiger software\n",
    "* Reverse images in y-direction\n",
    "* Apply the mask"
   ]
  },
  {
   "cell_type": "markdown",
   "metadata": {
    "papermill": {
     "duration": 2.8e-05,
     "end_time": "2018-09-17T20:23:29.402238",
     "exception": false,
     "start_time": "2018-09-17T20:23:29.402210",
     "status": "completed"
    },
    "tags": []
   },
   "source": [
    "# Change the lines below to give mask filename"
   ]
  },
  {
   "cell_type": "code",
   "execution_count": 33,
   "metadata": {
    "papermill": {
     "duration": 0.072991,
     "end_time": "2018-09-17T20:23:29.575194",
     "exception": false,
     "start_time": "2018-09-17T20:23:29.502203",
     "status": "completed"
    },
    "tags": []
   },
   "outputs": [],
   "source": [
    "if scat_geometry == 'gi_saxs':\n",
    "    mask_path = '/XF11ID/analysis/2018_2/masks/'    \n",
    "    mask_name =  'July13_2018_4M.npy'\n",
    "    \n",
    "elif scat_geometry == 'saxs':\n",
    "    mask_path = '/XF11ID/analysis/2019_1/masks/'\n",
    "    if md['detector'] =='eiger4m_single_image' or md['detector'] == 'image':    \n",
    "        mask_name = 'Feb6_2019_4M_SAXS.npy'     \n",
    "    elif md['detector'] =='eiger500K_single_image':    \n",
    "        mask_name = 'Feb6_2019_500K_SAXS.npy'    \n",
    "        \n",
    "        mask_path = '/XF11ID/analysis/2017_1/masks/'\n",
    "        mask_name = 'Feb23_500K_SAXS6_mask.npy'    \n",
    "        \n",
    "elif scat_geometry == 'gi_waxs':    \n",
    "    mask_path = '/XF11ID/analysis/2018_2/masks/'\n",
    "    mask_name = 'July20_2018_1M_WAXS.npy'"
   ]
  },
  {
   "cell_type": "code",
   "execution_count": 34,
   "metadata": {
    "papermill": {
     "duration": 0.309693,
     "end_time": "2018-09-17T20:23:29.916496",
     "exception": false,
     "start_time": "2018-09-17T20:23:29.606803",
     "status": "completed"
    },
    "scrolled": true,
    "tags": []
   },
   "outputs": [
    {
     "data": {
      "image/png": "[encoded data removed]",
      "text/plain": [
       "<Figure size 432x288 with 2 Axes>"
      ]
     },
     "metadata": {
      "needs_background": "light"
     },
     "output_type": "display_data"
    }
   ],
   "source": [
    "mask = load_mask(mask_path, mask_name, plot_ =  False, image_name = uidstr + '_mask', reverse= reverse, rot90=rot90  ) \n",
    "mask =  mask * pixel_mask * Chip_Mask\n",
    "show_img(mask,image_name = uidstr + '_mask', save=True, path=data_dir, aspect=1, center=center[::-1])\n",
    "mask_load=mask.copy()\n",
    "imgsa = apply_mask( imgs, mask )"
   ]
  },
  {
   "cell_type": "markdown",
   "metadata": {
    "papermill": {
     "duration": 3.1e-05,
     "end_time": "2018-09-17T20:23:29.917733",
     "exception": false,
     "start_time": "2018-09-17T20:23:29.917702",
     "status": "completed"
    },
    "tags": []
   },
   "source": [
    "# Check several frames average  intensity"
   ]
  },
  {
   "cell_type": "code",
   "execution_count": 35,
   "metadata": {
    "papermill": {
     "duration": 2.729025,
     "end_time": "2018-09-17T20:23:32.818489",
     "exception": false,
     "start_time": "2018-09-17T20:23:30.089464",
     "status": "completed"
    },
    "tags": []
   },
   "outputs": [],
   "source": [
    "img_choice_N = 3\n",
    "img_samp_index = random.sample( range(len(imgs)), img_choice_N) \n",
    "avg_img =  get_avg_img( imgsa, img_samp_index, plot_ = False, uid =uidstr)\n",
    "if avg_img.max() == 0:\n",
    "    print('There are no photons recorded for this uid: %s'%uid)\n",
    "    print('The data analysis should be terminated! Please try another uid.')\n"
   ]
  },
  {
   "cell_type": "code",
   "execution_count": 36,
   "metadata": {
    "papermill": {
     "duration": 0.067545,
     "end_time": "2018-09-17T20:23:32.887133",
     "exception": false,
     "start_time": "2018-09-17T20:23:32.819588",
     "status": "completed"
    },
    "tags": []
   },
   "outputs": [
    {
     "name": "stdout",
     "output_type": "stream",
     "text": [
      "[354, 517]\n"
     ]
    }
   ],
   "source": [
    "#show_img( imgsa[1000],  vmin=.1, vmax= 1e1, logs=True, aspect=1,\n",
    "#         image_name= uidstr + '_img_avg',  save=True, path=data_dir,  cmap = cmap_albula )\n",
    "print(center[::-1])"
   ]
  },
  {
   "cell_type": "code",
   "execution_count": 37,
   "metadata": {
    "papermill": {
     "duration": 0.83311,
     "end_time": "2018-09-17T20:23:33.863644",
     "exception": false,
     "start_time": "2018-09-17T20:23:33.030534",
     "status": "completed"
    },
    "tags": []
   },
   "outputs": [
    {
     "data": {
      "image/png": "[encoded data removed]",
      "text/plain": [
       "<Figure size 432x288 with 2 Axes>"
      ]
     },
     "metadata": {
      "needs_background": "light"
     },
     "output_type": "display_data"
    }
   ],
   "source": [
    "show_img( imgsa[ 5],  vmin = -1, vmax = 20, logs=False, aspect=1, #save_format='tif',\n",
    "         image_name= uidstr + '_img_avg',  save=True, path=data_dir, cmap=cmap_albula,center=center[::-1])\n",
    "# select subregion, hard coded center beam location\n",
    "#show_img( imgsa[180+40*3/0.05][110:110+840*2, 370:370+840*2],  vmin = 0.01, vmax = 20, logs=False, aspect=1, #save_format='tif',\n",
    "#         image_name= uidstr + '_img_avg',  save=True, path=data_dir, cmap=cmap_albula,center=[845,839])"
   ]
  },
  {
   "cell_type": "markdown",
   "metadata": {
    "papermill": {
     "duration": 3e-05,
     "end_time": "2018-09-17T20:23:33.864829",
     "exception": false,
     "start_time": "2018-09-17T20:23:33.864799",
     "status": "completed"
    },
    "tags": []
   },
   "source": [
    "## Compress Data\n",
    "* Generate a compressed data with filename\n",
    "* Replace old mask with a new mask with removed hot pixels\n",
    "* Do average image\n",
    "* Do each image sum\n",
    "* Find badframe_list for where image sum above bad_pixel_threshold\n",
    "* Check shutter open frame to get good time series\n"
   ]
  },
  {
   "cell_type": "code",
   "execution_count": 38,
   "metadata": {
    "papermill": {
     "duration": 0.67487,
     "end_time": "2018-09-17T20:23:34.740236",
     "exception": false,
     "start_time": "2018-09-17T20:23:34.065366",
     "status": "completed"
    },
    "tags": []
   },
   "outputs": [
    {
     "name": "stdout",
     "output_type": "stream",
     "text": [
      "The non-zeros photon occupation is 0.06811227380907409.\n",
      "Will Always DO apply compress process.\n"
     ]
    }
   ],
   "source": [
    "compress=True\n",
    "photon_occ = len( np.where(avg_img)[0] ) / ( imgsa[0].size)\n",
    "#compress =  photon_occ < .4  #if the photon ocupation < 0.5, do compress\n",
    "print (\"The non-zeros photon occupation is %s.\"%( photon_occ))\n",
    "print(\"Will \" + 'Always ' + ['NOT', 'DO'][compress]  + \" apply compress process.\")"
   ]
  },
  {
   "cell_type": "code",
   "execution_count": 39,
   "metadata": {
    "papermill": {
     "duration": 0.079711,
     "end_time": "2018-09-17T20:23:34.821061",
     "exception": false,
     "start_time": "2018-09-17T20:23:34.741350",
     "status": "completed"
    },
    "tags": []
   },
   "outputs": [],
   "source": [
    "if  md['detector'] =='eiger4m_single_image' or md['detector'] == 'image':    \n",
    "    good_start =    5  #make the good_start at least 0\n",
    "elif md['detector'] =='eiger500K_single_image': \n",
    "    good_start = 100  #5  #make the good_start at least 0\n",
    "    \n",
    "elif  md['detector'] =='eiger1m_single_image' or md['detector'] == 'image':    \n",
    "    good_start =    5    "
   ]
  },
  {
   "cell_type": "code",
   "execution_count": 40,
   "metadata": {
    "papermill": {
     "duration": 0.074053,
     "end_time": "2018-09-17T20:23:35.018107",
     "exception": false,
     "start_time": "2018-09-17T20:23:34.944054",
     "status": "completed"
    },
    "tags": []
   },
   "outputs": [],
   "source": [
    "bin_frame =  False # True  #generally make bin_frame as False\n",
    "if bin_frame:\n",
    "    bin_frame_number=4\n",
    "    acquisition_period = md['acquire period']\n",
    "    timeperframe = acquisition_period * bin_frame_number\n",
    "else:\n",
    "    bin_frame_number =1"
   ]
  },
  {
   "cell_type": "code",
   "execution_count": 41,
   "metadata": {
    "papermill": {
     "duration": 0.103918,
     "end_time": "2018-09-17T20:23:35.164439",
     "exception": false,
     "start_time": "2018-09-17T20:23:35.060521",
     "status": "completed"
    },
    "tags": []
   },
   "outputs": [],
   "source": [
    "force_compress = False\n",
    "#force_compress = True"
   ]
  },
  {
   "cell_type": "code",
   "execution_count": 58,
   "metadata": {
    "papermill": {
     "duration": 0.429165,
     "end_time": "2018-09-17T20:23:35.605744",
     "exception": false,
     "start_time": "2018-09-17T20:23:35.176579",
     "status": "completed"
    },
    "scrolled": false,
    "tags": []
   },
   "outputs": [
    {
     "name": "stdout",
     "output_type": "stream",
     "text": [
      "Using already created compressed file with filename as :/nsls2/xf11id1/analysis/Compressed_Data/uid_7095d1b4-53a4-4104-836e-be43c8d476ad.cmp.\n",
      "The good_start frame number is: 18000 \n",
      "uid=7095d1b4_fra_18000_28000\n",
      "Total time: 0.273 sec\n"
     ]
    },
    {
     "data": {
      "image/png": "[encoded data removed]",
      "text/plain": [
       "<Figure size 432x288 with 1 Axes>"
      ]
     },
     "metadata": {
      "needs_background": "light"
     },
     "output_type": "display_data"
    }
   ],
   "source": [
    "import time\n",
    "t0= time.time()\n",
    "\n",
    "if not use_local_disk:\n",
    "    cmp_path = '/nsls2/xf11id1/analysis/Compressed_Data'\n",
    "else:\n",
    "    cmp_path = '/tmp_data/compressed'\n",
    "    \n",
    "    \n",
    "cmp_path = '/nsls2/xf11id1/analysis/Compressed_Data'    \n",
    "if bin_frame_number==1:   \n",
    "    cmp_file = '/uid_%s.cmp'%md['uid']\n",
    "else:\n",
    "    cmp_file = '/uid_%s_bined--%s.cmp'%(md['uid'],bin_frame_number)\n",
    "    \n",
    "filename = cmp_path + cmp_file  \n",
    "mask2, avg_img, imgsum, bad_frame_list = compress_eigerdata(imgs, mask, md, filename, \n",
    "         force_compress= force_compress,  para_compress= para_compress,  bad_pixel_threshold = 1e14,\n",
    "                                    reverse=reverse, rot90=rot90,\n",
    "                        bins=bin_frame_number, num_sub= 100, num_max_para_process= 500, with_pickle=True,\n",
    "                        direct_load_data =use_local_disk, data_path = data_fullpath, )                                  \n",
    "                                                         \n",
    "min_inten = 10    \n",
    "good_start = max(good_start, np.where( np.array(imgsum) > min_inten )[0][0] )  \n",
    "\n",
    "####################################\n",
    "##########For this particular UID using this good_start and good_end parameters\n",
    "good_start = 18000 \n",
    "good_end = 28000\n",
    "#normally for 500K \n",
    "#good_start = 100\n",
    "#good_end= len(imgs)//bin_frame_number\n",
    "#####################################\n",
    "print ('The good_start frame number is: %s '%good_start)\n",
    "#FD = Multifile(filename, good_start, len(imgs)//bin_frame_number )\n",
    "FD = Multifile(filename, good_start, good_end )\n",
    "uid_ = uidstr + '_fra_%s_%s'%(FD.beg, FD.end)\n",
    "print( uid_ )\n",
    "plot1D( y = imgsum[ np.array( [i for i in np.arange(good_start, len(imgsum)) if i not in bad_frame_list])],\n",
    "       title =uidstr + '_imgsum', xlabel='Frame', ylabel='Total_Intensity', legend='imgsum'   )\n",
    "Nimg = Nimg/bin_frame_number\n",
    "run_time(t0)\n",
    "\n",
    "mask =  mask * pixel_mask * Chip_Mask\n",
    "mask_copy = mask.copy()\n",
    "mask_copy2 = mask.copy()\n",
    "\n"
   ]
  },
  {
   "cell_type": "code",
   "execution_count": 44,
   "metadata": {
    "papermill": {
     "duration": 0.100774,
     "end_time": "2018-09-17T20:23:35.707648",
     "exception": false,
     "start_time": "2018-09-17T20:23:35.606874",
     "status": "completed"
    },
    "tags": []
   },
   "outputs": [],
   "source": [
    "#%run ~/pyCHX_link/pyCHX/chx_generic_functions.py"
   ]
  },
  {
   "cell_type": "code",
   "execution_count": 45,
   "metadata": {
    "papermill": {
     "duration": 0.141103,
     "end_time": "2018-09-17T20:23:36.004567",
     "exception": false,
     "start_time": "2018-09-17T20:23:35.863464",
     "status": "completed"
    },
    "tags": []
   },
   "outputs": [
    {
     "name": "stdout",
     "output_type": "stream",
     "text": [
      "md[experiment] is not \"printing\" -> not going to look for t_0\n"
     ]
    }
   ],
   "source": [
    "try:\n",
    "    if md['experiment']=='printing':\n",
    "        #p = md['printing'] #if have this printing key, will do error function fitting to find t_print0\n",
    "        find_tp0 = True\n",
    "        t_print0 = ps(  y = imgsum[:400] ) * timeperframe\n",
    "        print( 'The start time of print: %s.' %(t_print0  ) )\n",
    "    else:\n",
    "        find_tp0 = False\n",
    "        print('md[experiment] is not \"printing\" -> not going to look for t_0')\n",
    "        t_print0 = None\n",
    "except:\n",
    "    find_tp0 = False\n",
    "    print('md[experiment] is not \"printing\" -> not going to look for t_0')\n",
    "    t_print0 = None\n"
   ]
  },
  {
   "cell_type": "code",
   "execution_count": 46,
   "metadata": {
    "papermill": {
     "duration": 0.788344,
     "end_time": "2018-09-17T20:23:36.874535",
     "exception": false,
     "start_time": "2018-09-17T20:23:36.086191",
     "status": "completed"
    },
    "tags": []
   },
   "outputs": [
    {
     "data": {
      "image/png": "[encoded data removed]",
      "text/plain": [
       "<Figure size 432x288 with 2 Axes>"
      ]
     },
     "metadata": {
      "needs_background": "light"
     },
     "output_type": "display_data"
    }
   ],
   "source": [
    "show_img( avg_img,  vmin=1e-3, vmax= 1e1, logs=True, aspect=1, #save_format='tif',\n",
    "         image_name= uidstr + '_img_avg',  save=True, \n",
    "         path=data_dir, center=center[::-1], cmap = cmap_albula )"
   ]
  },
  {
   "cell_type": "markdown",
   "metadata": {
    "papermill": {
     "duration": 2.9e-05,
     "end_time": "2018-09-17T20:23:36.875828",
     "exception": false,
     "start_time": "2018-09-17T20:23:36.875799",
     "status": "completed"
    },
    "tags": []
   },
   "source": [
    "## Get bad frame list by a polynominal fit"
   ]
  },
  {
   "cell_type": "code",
   "execution_count": 47,
   "metadata": {
    "papermill": {
     "duration": 0.107573,
     "end_time": "2018-09-17T20:23:37.185602",
     "exception": false,
     "start_time": "2018-09-17T20:23:37.078029",
     "status": "completed"
    },
    "tags": []
   },
   "outputs": [],
   "source": [
    "good_end= None # 2000  \n",
    "if good_end is not None:\n",
    "    FD = Multifile(filename, good_start, min( len(imgs)//bin_frame_number, good_end) )\n",
    "    uid_ = uidstr + '_fra_%s_%s'%(FD.beg, FD.end)\n",
    "    print( uid_ )\n",
    "    "
   ]
  },
  {
   "cell_type": "code",
   "execution_count": 48,
   "metadata": {
    "papermill": {
     "duration": 0.140295,
     "end_time": "2018-09-17T20:23:37.444958",
     "exception": false,
     "start_time": "2018-09-17T20:23:37.304663",
     "status": "completed"
    },
    "tags": []
   },
   "outputs": [],
   "source": [
    "re_define_good_start =False\n",
    "if re_define_good_start:\n",
    "    good_start = 180\n",
    "    #good_end = 19700\n",
    "    good_end = len(imgs)\n",
    "    FD = Multifile(filename, good_start, good_end) \n",
    "    uid_ = uidstr + '_fra_%s_%s'%(FD.beg, FD.end)\n",
    "    print( FD.beg, FD.end)"
   ]
  },
  {
   "cell_type": "code",
   "execution_count": 49,
   "metadata": {
    "papermill": {
     "duration": 0.577362,
     "end_time": "2018-09-17T20:23:38.110139",
     "exception": false,
     "start_time": "2018-09-17T20:23:37.532777",
     "status": "completed"
    },
    "scrolled": false,
    "tags": []
   },
   "outputs": [
    {
     "name": "stderr",
     "output_type": "stream",
     "text": [
      "/opt/conda_envs/analysis-2019-1.2-chx/lib/python3.6/site-packages/pyCHX/chx_generic_functions.py:1726: RankWarning: Polyfit may be poorly conditioned\n",
      "  pol = np.polyfit(x, y, order)\n"
     ]
    },
    {
     "name": "stdout",
     "output_type": "stream",
     "text": [
      "The bad frame list length is: 18025\n"
     ]
    },
    {
     "data": {
      "image/png": "[encoded data removed]",
      "text/plain": [
       "<Figure size 432x288 with 2 Axes>"
      ]
     },
     "metadata": {
      "needs_background": "light"
     },
     "output_type": "display_data"
    }
   ],
   "source": [
    "bad_frame_list =  get_bad_frame_list( imgsum, fit='both',  plot=True,polyfit_order = 30,                                      \n",
    "                        scale= 3.5,  good_start = good_start, good_end=good_end, uid= uidstr, path=data_dir)\n",
    "\n",
    "print( 'The bad frame list length is: %s'%len(bad_frame_list) )"
   ]
  },
  {
   "cell_type": "markdown",
   "metadata": {
    "papermill": {
     "duration": 2.8e-05,
     "end_time": "2018-09-17T20:23:38.111391",
     "exception": false,
     "start_time": "2018-09-17T20:23:38.111363",
     "status": "completed"
    },
    "tags": []
   },
   "source": [
    "### Creat new mask by masking the bad pixels and get new avg_img"
   ]
  },
  {
   "cell_type": "code",
   "execution_count": 50,
   "metadata": {
    "papermill": {
     "duration": 0.234893,
     "end_time": "2018-09-17T20:23:38.557619",
     "exception": false,
     "start_time": "2018-09-17T20:23:38.322726",
     "status": "completed"
    },
    "tags": []
   },
   "outputs": [],
   "source": [
    "imgsum_y = imgsum[ np.array( [i for i in np.arange( len(imgsum)) if i not in bad_frame_list])]\n",
    "imgsum_x = np.arange( len( imgsum_y))\n",
    "save_lists(  [imgsum_x, imgsum_y], label=['Frame', 'Total_Intensity'],\n",
    "           filename=uidstr + '_img_sum_t', path= data_dir  )\n"
   ]
  },
  {
   "cell_type": "markdown",
   "metadata": {
    "papermill": {
     "duration": 3.1e-05,
     "end_time": "2018-09-17T20:23:38.559345",
     "exception": false,
     "start_time": "2018-09-17T20:23:38.559314",
     "status": "completed"
    },
    "tags": []
   },
   "source": [
    "### Plot time~ total intensity of each frame"
   ]
  },
  {
   "cell_type": "code",
   "execution_count": 51,
   "metadata": {
    "papermill": {
     "duration": 0.244569,
     "end_time": "2018-09-17T20:23:39.029227",
     "exception": false,
     "start_time": "2018-09-17T20:23:38.784658",
     "status": "completed"
    },
    "tags": []
   },
   "outputs": [
    {
     "data": {
      "image/png": "[encoded data removed]",
      "text/plain": [
       "<Figure size 432x288 with 1 Axes>"
      ]
     },
     "metadata": {
      "needs_background": "light"
     },
     "output_type": "display_data"
    }
   ],
   "source": [
    "plot1D( y = imgsum_y, title = uidstr + '_img_sum_t', xlabel='Frame', c='b',\n",
    "       ylabel='Total_Intensity', legend='imgsum', save=True, path=data_dir)"
   ]
  },
  {
   "cell_type": "markdown",
   "metadata": {
    "papermill": {
     "duration": 2.9e-05,
     "end_time": "2018-09-17T20:23:39.032443",
     "exception": false,
     "start_time": "2018-09-17T20:23:39.032414",
     "status": "completed"
    },
    "tags": []
   },
   "source": [
    "## Get Dynamic Mask (currently designed for 500K)"
   ]
  },
  {
   "cell_type": "code",
   "execution_count": 52,
   "metadata": {
    "papermill": {
     "duration": 3.372694,
     "end_time": "2018-09-17T20:23:42.833174",
     "exception": false,
     "start_time": "2018-09-17T20:23:39.460480",
     "status": "completed"
    },
    "tags": []
   },
   "outputs": [
    {
     "name": "stderr",
     "output_type": "stream",
     "text": [
      "  0%|          | 53/17924 [00:00<00:33, 529.96it/s]"
     ]
    },
    {
     "name": "stdout",
     "output_type": "stream",
     "text": [
      "Create dynamic mask for 500K due to 9K data acquistion!!!\n"
     ]
    },
    {
     "name": "stderr",
     "output_type": "stream",
     "text": [
      "100%|██████████| 17924/17924 [00:24<00:00, 725.36it/s]\n"
     ]
    },
    {
     "data": {
      "image/png": "[encoded data removed]",
      "text/plain": [
       "<Figure size 432x288 with 2 Axes>"
      ]
     },
     "metadata": {
      "needs_background": "light"
     },
     "output_type": "display_data"
    }
   ],
   "source": [
    "if  md['detector'] =='eiger4m_single_image' or md['detector'] == 'image':    \n",
    "    pass\n",
    "elif md['detector'] =='eiger500K_single_image':  \n",
    "    #if md['cam_acquire_period'] <= 0.00015:  #will check this logic\n",
    "    if imgs[0].dtype == 'uint16':\n",
    "        print('Create dynamic mask for 500K due to 9K data acquistion!!!')\n",
    "        bdp = find_bad_pixels_FD( bad_frame_list, FD, img_shape = avg_img.shape, threshold=20 )    \n",
    "        mask = mask_copy2.copy()\n",
    "        mask *=bdp \n",
    "        mask_copy = mask.copy()\n",
    "        show_img(  mask, image_name='New Mask_uid=%s'%uid )"
   ]
  },
  {
   "cell_type": "markdown",
   "metadata": {
    "papermill": {
     "duration": 3.1e-05,
     "end_time": "2018-09-17T20:23:42.834465",
     "exception": false,
     "start_time": "2018-09-17T20:23:42.834434",
     "status": "completed"
    },
    "tags": []
   },
   "source": [
    "# Static Analysis"
   ]
  },
  {
   "cell_type": "markdown",
   "metadata": {
    "papermill": {
     "duration": 2.6e-05,
     "end_time": "2018-09-17T20:23:43.023858",
     "exception": false,
     "start_time": "2018-09-17T20:23:43.023832",
     "status": "completed"
    },
    "tags": []
   },
   "source": [
    "## SAXS Scattering Geometry"
   ]
  },
  {
   "cell_type": "code",
   "execution_count": 53,
   "metadata": {
    "papermill": {
     "duration": 0.100601,
     "end_time": "2018-09-17T20:23:43.243096",
     "exception": false,
     "start_time": "2018-09-17T20:23:43.142495",
     "status": "completed"
    },
    "tags": []
   },
   "outputs": [
    {
     "data": {
      "text/plain": [
       "{'uid': 'uid=7095d1b4',\n",
       " 'dpix': 0.07500000356230885,\n",
       " 'Ldet': 16718.0,\n",
       " 'lambda_': 1.2849434614181519,\n",
       " 'exposuretime': 1e-04,\n",
       " 'timeperframe': 0.000112,\n",
       " 'center': [517, 354],\n",
       " 'path': '/XF11ID/analysis/2019_1/yuzhang/Results/7095d1b4-53a4-4104-836e-be43c8d476ad/'}"
      ]
     },
     "execution_count": 53,
     "metadata": {},
     "output_type": "execute_result"
    }
   ],
   "source": [
    "setup_pargs "
   ]
  },
  {
   "cell_type": "code",
   "execution_count": 54,
   "metadata": {
    "papermill": {
     "duration": 0.379243,
     "end_time": "2018-09-17T20:23:43.795114",
     "exception": false,
     "start_time": "2018-09-17T20:23:43.415871",
     "status": "completed"
    },
    "tags": []
   },
   "outputs": [
    {
     "name": "stderr",
     "output_type": "stream",
     "text": [
      "/opt/conda_envs/analysis-2019-1.2-chx/lib/python3.6/site-packages/pyCHX/XPCS_SAXS.py:496: UserWarning: Attempted to set non-positive bottom ylim on a log-scaled axis.\n",
      "Invalid limit will be ignored.\n",
      "  ax1.set_ylim(   ylim  )\n"
     ]
    },
    {
     "data": {
      "image/png": "[encoded data removed]",
      "text/plain": [
       "<Figure size 432x288 with 1 Axes>"
      ]
     },
     "metadata": {
      "needs_background": "light"
     },
     "output_type": "display_data"
    }
   ],
   "source": [
    "if scat_geometry =='saxs':\n",
    "    ## Get circular average| * Do plot and save q~iq\n",
    "    mask = mask_copy.copy()\n",
    "    hmask = create_hot_pixel_mask( avg_img, threshold = 1e8, center=center, center_radius= 10)\n",
    "    \n",
    "    qp_saxs, iq_saxs, q_saxs = get_circular_average( avg_img * Chip_Mask , mask * hmask, pargs=setup_pargs  )\n",
    "    plot_circular_average( qp_saxs, iq_saxs, q_saxs,  pargs=setup_pargs,  show_pixel=True,\n",
    "                      xlim=[qp_saxs.min(), qp_saxs.max()*1.0], ylim = [iq_saxs.min(), iq_saxs.max()*2] )\n",
    "    mask =np.array( mask * hmask, dtype=bool) "
   ]
  },
  {
   "cell_type": "code",
   "execution_count": 55,
   "metadata": {
    "papermill": {
     "duration": 0.756378,
     "end_time": "2018-09-17T20:23:44.552706",
     "exception": false,
     "start_time": "2018-09-17T20:23:43.796328",
     "status": "completed"
    },
    "tags": []
   },
   "outputs": [
    {
     "name": "stdout",
     "output_type": "stream",
     "text": [
      "Something is wrong with the roi-mask. Please check the loaded roi mask file.\n"
     ]
    },
    {
     "name": "stderr",
     "output_type": "stream",
     "text": [
      "/opt/conda_envs/analysis-2019-1.2-chx/lib/python3.6/site-packages/pyCHX/XPCS_SAXS.py:1383: UserWarning: Attempted to set non-positive bottom ylim on a log-scaled axis.\n",
      "Invalid limit will be ignored.\n",
      "  axes.set_ylim(   ylim  )\n"
     ]
    },
    {
     "data": {
      "image/png": "[encoded data removed]",
      "text/plain": [
       "<Figure size 432x288 with 2 Axes>"
      ]
     },
     "metadata": {
      "needs_background": "light"
     },
     "output_type": "display_data"
    },
    {
     "data": {
      "image/png": "[encoded data removed]",
      "text/plain": [
       "<Figure size 576x432 with 1 Axes>"
      ]
     },
     "metadata": {
      "needs_background": "light"
     },
     "output_type": "display_data"
    }
   ],
   "source": [
    "if scat_geometry =='saxs':    \n",
    "    if run_fit_form:        \n",
    "        form_res = fit_form_factor( q_saxs,iq_saxs,  guess_values={'radius': 2500, 'sigma':0.05, \n",
    "         'delta_rho':1E-10 },  fit_range=[0.0001, 0.015], fit_variables={'radius': T, 'sigma':T, \n",
    "         'delta_rho':T},  res_pargs=setup_pargs, xlim=[0.0001, 0.015])  \n",
    "        \n",
    "    qr = np.array( [qval_dict[k][0] for k in sorted( qval_dict.keys())] )\n",
    "    if qphi_analysis ==  False:\n",
    "        try:\n",
    "            qr_cal, qr_wid = get_QrQw_From_RoiMask( roi_mask, setup_pargs  ) \n",
    "            print(len(qr))         \n",
    "            if (qr_cal - qr).sum() >=1e-3:\n",
    "                print( 'The loaded ROI mask might not be applicable to this UID: %s.'%uid)\n",
    "                print('Please check the loaded roi mask file.')\n",
    "        except:\n",
    "            print('Something is wrong with the roi-mask. Please check the loaded roi mask file.')            \n",
    "            \n",
    "    \n",
    "    show_ROI_on_image( avg_img*roi_mask, roi_mask, center, label_on = False, rwidth = 840, alpha=.9,  \n",
    "                 save=True, path=data_dir, uid=uidstr, vmin= 1e-3,\n",
    "                 vmax= 1e-1, #np.max(avg_img),\n",
    "                 aspect=1,\n",
    "                 show_roi_edge=True,     \n",
    "                 show_ang_cor = True) \n",
    "    plot_qIq_with_ROI( q_saxs, iq_saxs, np.unique(qr), logs=True, uid=uidstr, \n",
    "                      xlim=[q_saxs.min(), q_saxs.max()*1.02],#[0.0001,0.08],\n",
    "                  ylim = [iq_saxs.min(), iq_saxs.max()*1.02],  save=True, path=data_dir)\n",
    "    \n",
    "    roi_mask = roi_mask * mask"
   ]
  },
  {
   "cell_type": "markdown",
   "metadata": {
    "papermill": {
     "duration": 2.9e-05,
     "end_time": "2018-09-17T20:23:44.553962",
     "exception": false,
     "start_time": "2018-09-17T20:23:44.553933",
     "status": "completed"
    },
    "tags": []
   },
   "source": [
    "# Time Depedent I(q) Analysis"
   ]
  },
  {
   "cell_type": "code",
   "execution_count": 60,
   "metadata": {
    "papermill": {
     "duration": 13.978175,
     "end_time": "2018-09-17T20:23:58.727776",
     "exception": false,
     "start_time": "2018-09-17T20:23:44.749601",
     "status": "completed"
    },
    "tags": []
   },
   "outputs": [
    {
     "name": "stderr",
     "output_type": "stream",
     "text": [
      "/opt/conda_envs/analysis-2019-1.2-chx/lib/python3.6/site-packages/pyCHX/XPCS_SAXS.py:752: UserWarning: Attempted to set non-positive bottom ylim on a log-scaled axis.\n",
      "Invalid limit will be ignored.\n",
      "  ax.set_ylim(    kwargs['ylim']  )\n"
     ]
    },
    {
     "data": {
      "image/png": "[encoded data removed]",
      "text/plain": [
       "<Figure size 576x432 with 1 Axes>"
      ]
     },
     "metadata": {
      "needs_background": "light"
     },
     "output_type": "display_data"
    }
   ],
   "source": [
    "if scat_geometry =='saxs':\n",
    "    Nimg = FD.end - FD.beg \n",
    "    time_edge = create_time_slice( Nimg, slice_num= 10, slice_width= 1, edges = None )\n",
    "    time_edge =  np.array( time_edge ) + good_start\n",
    "    #print( time_edge )    \n",
    "    qpt, iqst, qt = get_t_iqc( FD, time_edge, mask*Chip_Mask, pargs=setup_pargs, nx=1500, show_progress= False )\n",
    "    plot_t_iqc( qt, iqst, time_edge, pargs=setup_pargs, xlim=[qt.min(), qt.max()],\n",
    "           ylim = [iqst.min(), iqst.max()], save=True )"
   ]
  },
  {
   "cell_type": "code",
   "execution_count": 61,
   "metadata": {
    "papermill": {
     "duration": 0.063486,
     "end_time": "2018-09-17T20:23:58.792475",
     "exception": false,
     "start_time": "2018-09-17T20:23:58.728989",
     "status": "completed"
    },
    "tags": []
   },
   "outputs": [],
   "source": [
    "if run_invariant_analysis:\n",
    "    if scat_geometry =='saxs':\n",
    "        invariant = get_iq_invariant( qt, iqst )\n",
    "        time_stamp = time_edge[:,0] * timeperframe\n",
    "\n",
    "    if scat_geometry =='saxs':\n",
    "        plot_q2_iq( qt, iqst, time_stamp,pargs=setup_pargs,ylim=[ -0.001, 0.01] , \n",
    "                   xlim=[0.007,0.2],legend_size= 6  )\n",
    "\n",
    "    if scat_geometry =='saxs':\n",
    "        plot_time_iq_invariant( time_stamp, invariant, pargs=setup_pargs,  )\n",
    "\n",
    "    if False:\n",
    "        iq_int = np.zeros( len(iqst) )\n",
    "        fig, ax = plt.subplots()\n",
    "        q = qt\n",
    "        for i in range(iqst.shape[0]):\n",
    "            yi = iqst[i] * q**2\n",
    "            iq_int[i] = yi.sum()\n",
    "            time_labeli = 'time_%s s'%( round(  time_edge[i][0] * timeperframe, 3) )\n",
    "            plot1D( x = q, y = yi, legend= time_labeli, xlabel='Q (A-1)', ylabel='I(q)*Q^2', title='I(q)*Q^2 ~ time',\n",
    "                   m=markers[i], c = colors[i], ax=ax, ylim=[ -0.001, 0.01] , xlim=[0.007,0.2],\n",
    "                  legend_size=4)\n",
    "\n",
    "        #print( iq_int )"
   ]
  },
  {
   "cell_type": "markdown",
   "metadata": {
    "papermill": {
     "duration": 2.9e-05,
     "end_time": "2018-09-17T20:23:58.964438",
     "exception": false,
     "start_time": "2018-09-17T20:23:58.964409",
     "status": "completed"
    },
    "tags": []
   },
   "source": [
    "# GiSAXS Scattering Geometry"
   ]
  },
  {
   "cell_type": "code",
   "execution_count": 62,
   "metadata": {
    "papermill": {
     "duration": 0.145195,
     "end_time": "2018-09-17T20:23:59.240544",
     "exception": false,
     "start_time": "2018-09-17T20:23:59.095349",
     "status": "completed"
    },
    "tags": []
   },
   "outputs": [],
   "source": [
    "if scat_geometry =='gi_saxs':    \n",
    "    plot_qzr_map(  qr_map, qz_map, inc_x0, ticks = ticks, data= avg_img, uid= uidstr, path = data_dir   )"
   ]
  },
  {
   "cell_type": "markdown",
   "metadata": {
    "papermill": {
     "duration": 2.7e-05,
     "end_time": "2018-09-17T20:23:59.241830",
     "exception": false,
     "start_time": "2018-09-17T20:23:59.241803",
     "status": "completed"
    },
    "tags": []
   },
   "source": [
    "## Static Analysis for gisaxs"
   ]
  },
  {
   "cell_type": "code",
   "execution_count": 63,
   "metadata": {
    "papermill": {
     "duration": 0.142275,
     "end_time": "2018-09-17T20:23:59.516885",
     "exception": false,
     "start_time": "2018-09-17T20:23:59.374610",
     "status": "completed"
    },
    "tags": []
   },
   "outputs": [],
   "source": [
    "if scat_geometry =='gi_saxs':    \n",
    "    #roi_masks, qval_dicts = get_gisaxs_roi( Qrs, Qzs, qr_map, qz_map, mask= mask )\n",
    "    show_qzr_roi( avg_img, roi_masks, inc_x0, ticks[:4], alpha=0.5, save=True, path=data_dir, uid=uidstr )"
   ]
  },
  {
   "cell_type": "code",
   "execution_count": 64,
   "metadata": {
    "papermill": {
     "duration": 0.144751,
     "end_time": "2018-09-17T20:23:59.671404",
     "exception": false,
     "start_time": "2018-09-17T20:23:59.526653",
     "status": "completed"
    },
    "tags": []
   },
   "outputs": [],
   "source": [
    "if  scat_geometry =='gi_saxs':    \n",
    "    Nimg = FD.end - FD.beg \n",
    "    time_edge = create_time_slice( N= Nimg, slice_num= 3, slice_width= 2, edges = None )\n",
    "    time_edge =  np.array( time_edge ) + good_start\n",
    "    print( time_edge )    \n",
    "    qrt_pds = get_t_qrc( FD, time_edge, Qrs, Qzs, qr_map, qz_map, mask=mask, path=data_dir, uid = uidstr )    \n",
    "    plot_qrt_pds( qrt_pds, time_edge, qz_index = 0, uid = uidstr, path =  data_dir )"
   ]
  },
  {
   "cell_type": "markdown",
   "metadata": {
    "papermill": {
     "duration": 2.8e-05,
     "end_time": "2018-09-17T20:23:59.675072",
     "exception": false,
     "start_time": "2018-09-17T20:23:59.675044",
     "status": "completed"
    },
    "tags": []
   },
   "source": [
    "# Make a Profile Plot"
   ]
  },
  {
   "cell_type": "code",
   "execution_count": 65,
   "metadata": {
    "papermill": {
     "duration": 0.123297,
     "end_time": "2018-09-17T20:23:59.940163",
     "exception": false,
     "start_time": "2018-09-17T20:23:59.816866",
     "status": "completed"
    },
    "tags": []
   },
   "outputs": [],
   "source": [
    "if  scat_geometry =='gi_saxs':\n",
    "    if run_profile_plot:\n",
    "        xcorners= [ 1100, 1250, 1250, 1100 ]\n",
    "        ycorners= [ 850, 850, 950, 950 ]   \n",
    "        waterfall_roi_size = [ xcorners[1] - xcorners[0],  ycorners[2] - ycorners[1]  ]\n",
    "        waterfall_roi =  create_rectangle_mask(  avg_img, xcorners, ycorners   )\n",
    "        #show_img( waterfall_roi * avg_img,  aspect=1,vmin=.001, vmax=1, logs=True, )\n",
    "        wat = cal_waterfallc( FD, waterfall_roi, qindex= 1, bin_waterfall=True,\n",
    "                              waterfall_roi_size = waterfall_roi_size,save =True, path=data_dir, uid=uidstr)\n",
    "    "
   ]
  },
  {
   "cell_type": "code",
   "execution_count": 66,
   "metadata": {
    "papermill": {
     "duration": 0.134147,
     "end_time": "2018-09-17T20:24:00.099551",
     "exception": false,
     "start_time": "2018-09-17T20:23:59.965404",
     "status": "completed"
    },
    "tags": []
   },
   "outputs": [],
   "source": [
    "if  scat_geometry =='gi_saxs':\n",
    "    if run_profile_plot:\n",
    "        plot_waterfallc( wat, qindex=1, aspect=None, vmin=1, vmax= np.max( wat), uid=uidstr, save =True, \n",
    "                        path=data_dir, beg= FD.beg)"
   ]
  },
  {
   "cell_type": "markdown",
   "metadata": {
    "papermill": {
     "duration": 2.7e-05,
     "end_time": "2018-09-17T20:24:00.125425",
     "exception": false,
     "start_time": "2018-09-17T20:24:00.125398",
     "status": "completed"
    },
    "tags": []
   },
   "source": [
    "## Dynamic Analysis for gi_saxs"
   ]
  },
  {
   "cell_type": "code",
   "execution_count": 68,
   "metadata": {
    "papermill": {
     "duration": 0.165129,
     "end_time": "2018-09-17T20:24:00.443315",
     "exception": false,
     "start_time": "2018-09-17T20:24:00.278186",
     "status": "completed"
    },
    "scrolled": false,
    "tags": []
   },
   "outputs": [],
   "source": [
    "if scat_geometry =='gi_saxs':       \n",
    "    show_qzr_roi( avg_img, roi_mask, inc_x0, ticks[:4], alpha=0.5, save=True, path=data_dir, uid=uidstr )        \n",
    "    ## Get 1D Curve (Q||-intensity¶)\n",
    "    qr_1d_pds = cal_1d_qr( avg_img, Qr, Qz, qr_map, qz_map, inc_x0= None, mask=mask, setup_pargs=setup_pargs )\n",
    "    plot_qr_1d_with_ROI( qr_1d_pds, qr_center=np.unique( np.array(list( qval_dict.values() ) )[:,0] ),\n",
    "                    loglog=True, save=True, uid=uidstr, path = data_dir)"
   ]
  },
  {
   "cell_type": "markdown",
   "metadata": {
    "papermill": {
     "duration": 2.8e-05,
     "end_time": "2018-09-17T20:24:00.452335",
     "exception": false,
     "start_time": "2018-09-17T20:24:00.452307",
     "status": "completed"
    },
    "tags": []
   },
   "source": [
    "# GiWAXS Scattering Geometry"
   ]
  },
  {
   "cell_type": "code",
   "execution_count": 69,
   "metadata": {
    "papermill": {
     "duration": 0.164204,
     "end_time": "2018-09-17T20:24:00.779191",
     "exception": false,
     "start_time": "2018-09-17T20:24:00.614987",
     "status": "completed"
    },
    "tags": []
   },
   "outputs": [],
   "source": [
    "if scat_geometry =='gi_waxs':\n",
    "    #badpixel = np.where( avg_img[:600,:] >=300 )\n",
    "    #roi_mask[badpixel] = 0\n",
    "    show_ROI_on_image( avg_img, roi_mask, label_on = True,  alpha=.5,\n",
    "                 save=True, path=data_dir, uid=uidstr, vmin=0.1, vmax=5)"
   ]
  },
  {
   "cell_type": "markdown",
   "metadata": {
    "papermill": {
     "duration": 2.9e-05,
     "end_time": "2018-09-17T20:24:00.796008",
     "exception": false,
     "start_time": "2018-09-17T20:24:00.795979",
     "status": "completed"
    },
    "tags": []
   },
   "source": [
    "* Extract the labeled array"
   ]
  },
  {
   "cell_type": "code",
   "execution_count": 70,
   "metadata": {
    "papermill": {
     "duration": 0.126734,
     "end_time": "2018-09-17T20:24:01.086990",
     "exception": false,
     "start_time": "2018-09-17T20:24:00.960256",
     "status": "completed"
    },
    "tags": []
   },
   "outputs": [
    {
     "name": "stdout",
     "output_type": "stream",
     "text": [
      "16\n"
     ]
    }
   ],
   "source": [
    "qind, pixelist = roi.extract_label_indices(roi_mask)\n",
    "noqs = len(np.unique(qind))\n",
    "print(noqs)"
   ]
  },
  {
   "cell_type": "markdown",
   "metadata": {
    "papermill": {
     "duration": 2.9e-05,
     "end_time": "2018-09-17T20:24:01.115781",
     "exception": false,
     "start_time": "2018-09-17T20:24:01.115752",
     "status": "completed"
    },
    "tags": []
   },
   "source": [
    "* Number of pixels in each q box"
   ]
  },
  {
   "cell_type": "code",
   "execution_count": 71,
   "metadata": {
    "papermill": {
     "duration": 0.145381,
     "end_time": "2018-09-17T20:24:01.409094",
     "exception": false,
     "start_time": "2018-09-17T20:24:01.263713",
     "status": "completed"
    },
    "tags": []
   },
   "outputs": [
    {
     "data": {
      "text/plain": [
       "array([ 3403,  4853,  5649,  6571,  7665,  8737,  9785, 10296, 10162,\n",
       "       10314, 10508, 10766, 11008, 11276, 11178, 11153])"
      ]
     },
     "execution_count": 71,
     "metadata": {},
     "output_type": "execute_result"
    }
   ],
   "source": [
    "nopr = np.bincount(qind, minlength=(noqs+1))[1:]\n",
    "nopr"
   ]
  },
  {
   "cell_type": "markdown",
   "metadata": {
    "papermill": {
     "duration": 2.8e-05,
     "end_time": "2018-09-17T20:24:01.434278",
     "exception": false,
     "start_time": "2018-09-17T20:24:01.434250",
     "status": "completed"
    },
    "tags": []
   },
   "source": [
    "## Check one ROI intensity"
   ]
  },
  {
   "cell_type": "code",
   "execution_count": 72,
   "metadata": {
    "papermill": {
     "duration": 0.19858,
     "end_time": "2018-09-17T20:24:01.796536",
     "exception": false,
     "start_time": "2018-09-17T20:24:01.597956",
     "status": "completed"
    },
    "tags": []
   },
   "outputs": [
    {
     "data": {
      "image/png": "[encoded data removed]",
      "text/plain": [
       "<Figure size 432x288 with 1 Axes>"
      ]
     },
     "metadata": {
      "needs_background": "light"
     },
     "output_type": "display_data"
    }
   ],
   "source": [
    "roi_inten = check_ROI_intensity( avg_img, roi_mask, ring_number= 2, uid =uidstr ) #roi starting from 1"
   ]
  },
  {
   "cell_type": "markdown",
   "metadata": {
    "papermill": {
     "duration": 2.8e-05,
     "end_time": "2018-09-17T20:24:01.798049",
     "exception": false,
     "start_time": "2018-09-17T20:24:01.798021",
     "status": "completed"
    },
    "tags": []
   },
   "source": [
    "## Do a waterfall analysis"
   ]
  },
  {
   "cell_type": "code",
   "execution_count": 73,
   "metadata": {
    "papermill": {
     "duration": 0.135243,
     "end_time": "2018-09-17T20:24:02.133339",
     "exception": false,
     "start_time": "2018-09-17T20:24:01.998096",
     "status": "completed"
    },
    "tags": []
   },
   "outputs": [],
   "source": [
    "qth_interest = 2 #the second ring. #qth_interest starting from 1\n",
    "if scat_geometry =='saxs' or scat_geometry =='gi_waxs':\n",
    "    if run_waterfall:    \n",
    "        wat = cal_waterfallc( FD, roi_mask, qindex= qth_interest, save =True, path=data_dir, uid=uidstr)\n",
    "        plot_waterfallc( wat, qth_interest, aspect= None, vmin=1e-1, vmax= wat.max(), uid=uidstr, save =True, \n",
    "                        path=data_dir, beg= FD.beg, cmap = cmap_vge )\n",
    " "
   ]
  },
  {
   "cell_type": "code",
   "execution_count": 74,
   "metadata": {
    "papermill": {
     "duration": 30.384033,
     "end_time": "2018-09-17T20:24:32.538675",
     "exception": false,
     "start_time": "2018-09-17T20:24:02.154642",
     "status": "completed"
    },
    "scrolled": false,
    "tags": []
   },
   "outputs": [
    {
     "name": "stderr",
     "output_type": "stream",
     "text": [
      "100%|██████████| 16/16 [00:00<00:00, 154.49it/s]\n",
      "  0%|          | 0/16 [00:00<?, ?it/s]"
     ]
    },
    {
     "name": "stdout",
     "output_type": "stream",
     "text": [
      "Starting assign the tasks...\n",
      "Starting running the tasks...\n"
     ]
    },
    {
     "name": "stderr",
     "output_type": "stream",
     "text": [
      "100%|██████████| 16/16 [00:26<00:00,  1.64s/it]\n"
     ]
    },
    {
     "name": "stdout",
     "output_type": "stream",
     "text": [
      "ROI mean_intensit calculation is DONE!\n"
     ]
    },
    {
     "data": {
      "image/png": "[encoded data removed]",
      "text/plain": [
       "<Figure size 576x576 with 1 Axes>"
      ]
     },
     "metadata": {
      "needs_background": "light"
     },
     "output_type": "display_data"
    }
   ],
   "source": [
    "ring_avg = None    \n",
    "if run_t_ROI_Inten:\n",
    "    times_roi, mean_int_sets = cal_each_ring_mean_intensityc(FD, roi_mask, timeperframe = None, multi_cor=True  ) \n",
    "    plot_each_ring_mean_intensityc( times_roi, mean_int_sets,  uid = uidstr, save=True, path=data_dir )\n",
    "    roi_avg = np.average( mean_int_sets, axis=0)"
   ]
  },
  {
   "cell_type": "markdown",
   "metadata": {
    "papermill": {
     "duration": 2.9e-05,
     "end_time": "2018-09-17T20:24:32.539945",
     "exception": false,
     "start_time": "2018-09-17T20:24:32.539916",
     "status": "completed"
    },
    "tags": []
   },
   "source": [
    "## Analysis for mass center of reflective beam center"
   ]
  },
  {
   "cell_type": "code",
   "execution_count": 75,
   "metadata": {
    "papermill": {
     "duration": 0.140729,
     "end_time": "2018-09-17T20:24:32.894047",
     "exception": false,
     "start_time": "2018-09-17T20:24:32.753318",
     "status": "completed"
    },
    "tags": []
   },
   "outputs": [],
   "source": [
    "if run_get_mass_center:\n",
    "    cx, cy = get_mass_center_one_roi(FD, roi_mask, roi_ind=25)\n",
    "    "
   ]
  },
  {
   "cell_type": "code",
   "execution_count": 76,
   "metadata": {
    "papermill": {
     "duration": 0.130535,
     "end_time": "2018-09-17T20:24:33.046498",
     "exception": false,
     "start_time": "2018-09-17T20:24:32.915963",
     "status": "completed"
    },
    "tags": []
   },
   "outputs": [],
   "source": [
    "if run_get_mass_center:\n",
    "    fig,ax=plt.subplots(2)\n",
    "    plot1D( cx, m='o', c='b',ax=ax[0], legend='mass center-refl_X', \n",
    "           ylim=[940, 960], ylabel='posX (pixel)')\n",
    "    plot1D( cy, m='s', c='r',ax=ax[1], legend='mass center-refl_Y', \n",
    "           ylim=[1540, 1544], xlabel='frames',ylabel='posY (pixel)')"
   ]
  },
  {
   "cell_type": "markdown",
   "metadata": {
    "papermill": {
     "duration": 2.9e-05,
     "end_time": "2018-09-17T20:24:33.097477",
     "exception": false,
     "start_time": "2018-09-17T20:24:33.097448",
     "status": "completed"
    },
    "tags": []
   },
   "source": [
    "## One time Correlation\n",
    "\n",
    "Note : Enter the number of buffers for Muliti tau one time correlation\n",
    "number of buffers has to be even. More details in https://github.com/scikit-beam/scikit-beam/blob/master/skbeam/core/correlation.py"
   ]
  },
  {
   "cell_type": "markdown",
   "metadata": {
    "papermill": {
     "duration": 2.9e-05,
     "end_time": "2018-09-17T20:24:33.283008",
     "exception": false,
     "start_time": "2018-09-17T20:24:33.282979",
     "status": "completed"
    },
    "tags": []
   },
   "source": [
    "### if define another good_series"
   ]
  },
  {
   "cell_type": "code",
   "execution_count": 77,
   "metadata": {
    "papermill": {
     "duration": 0.135329,
     "end_time": "2018-09-17T20:24:33.593788",
     "exception": false,
     "start_time": "2018-09-17T20:24:33.458459",
     "status": "completed"
    },
    "tags": []
   },
   "outputs": [],
   "source": [
    "define_good_series = False\n",
    "#define_good_series = True\n",
    "if define_good_series:\n",
    "    good_start = 200\n",
    "    FD = Multifile(filename, beg = good_start, end = 600) #end=1000)\n",
    "    uid_ = uidstr + '_fra_%s_%s'%(FD.beg, FD.end)\n",
    "    print( uid_ )"
   ]
  },
  {
   "cell_type": "code",
   "execution_count": 78,
   "metadata": {
    "papermill": {
     "duration": 0.285948,
     "end_time": "2018-09-17T20:24:33.906905",
     "exception": false,
     "start_time": "2018-09-17T20:24:33.620957",
     "status": "completed"
    },
    "tags": []
   },
   "outputs": [
    {
     "name": "stdout",
     "output_type": "stream",
     "text": [
      "Using circular average in the normalization of G2 for SAXS scattering.\n",
      "Using frame total intensity for intensity normalization in g2 calculation.\n"
     ]
    }
   ],
   "source": [
    "if use_sqnorm:#for transmision SAXS\n",
    "    norm = get_pixelist_interp_iq( qp_saxs, iq_saxs, roi_mask, center)\n",
    "    print('Using circular average in the normalization of G2 for SAXS scattering.')\n",
    "elif use_SG:#for Gi-SAXS or WAXS\n",
    "    avg_imgf = sgolay2d( avg_img, window_size= 11, order= 5) * mask\n",
    "    norm=np.ravel(avg_imgf)[pixelist]    \n",
    "    print('Using smoothed image by SavitzkyGolay filter in the normalization of G2.')    \n",
    "else:     \n",
    "    norm= None\n",
    "    print('Using simple (average) normalization of G2.')      \n",
    "\n",
    "if use_imgsum_norm:\n",
    "    imgsum_ = imgsum\n",
    "    print('Using frame total intensity for intensity normalization in g2 calculation.')      \n",
    "else:\n",
    "    imgsum_ = None    \n",
    "import time"
   ]
  },
  {
   "cell_type": "code",
   "execution_count": 79,
   "metadata": {
    "papermill": {
     "duration": 93.1067,
     "end_time": "2018-09-17T20:26:07.014769",
     "exception": false,
     "start_time": "2018-09-17T20:24:33.908069",
     "status": "completed"
    },
    "tags": []
   },
   "outputs": [
    {
     "name": "stdout",
     "output_type": "stream",
     "text": [
      "In this g2 calculation, the buf and lev number are: 8--12--\n",
      "10000 frames will be processed...\n"
     ]
    },
    {
     "name": "stderr",
     "output_type": "stream",
     "text": [
      "100%|██████████| 16/16 [00:00<00:00, 128.74it/s]\n",
      "  0%|          | 0/16 [00:00<?, ?it/s]"
     ]
    },
    {
     "name": "stdout",
     "output_type": "stream",
     "text": [
      "Starting assign the tasks...\n",
      "Starting running the tasks...\n"
     ]
    },
    {
     "name": "stderr",
     "output_type": "stream",
     "text": [
      "100%|██████████| 16/16 [00:45<00:00,  2.86s/it]"
     ]
    },
    {
     "name": "stdout",
     "output_type": "stream",
     "text": [
      "G2 calculation DONE!\n",
      "Total time: 57.086 sec\n"
     ]
    },
    {
     "name": "stderr",
     "output_type": "stream",
     "text": [
      "\n"
     ]
    }
   ],
   "source": [
    "if run_one_time: \n",
    "    t0 = time.time()     \n",
    "    if cal_g2_error:          \n",
    "        g2,lag_steps,g2_err = cal_g2p(FD,roi_mask,bad_frame_list,good_start, num_buf = 8,\n",
    "                            num_lev= None,imgsum= imgsum_, norm=norm, cal_error= True )\n",
    "    else:   \n",
    "        g2,lag_steps    =     cal_g2p(FD,roi_mask,bad_frame_list,good_start, num_buf = 8,\n",
    "                            num_lev= None,imgsum= imgsum_, norm=norm, cal_error= False )\n",
    "\n",
    "    run_time(t0)\n",
    "    "
   ]
  },
  {
   "cell_type": "code",
   "execution_count": 80,
   "metadata": {
    "papermill": {
     "duration": 0.210088,
     "end_time": "2018-09-17T20:26:07.226159",
     "exception": false,
     "start_time": "2018-09-17T20:26:07.016071",
     "status": "completed"
    },
    "tags": []
   },
   "outputs": [
    {
     "data": {
      "text/plain": [
       "16"
      ]
     },
     "execution_count": 80,
     "metadata": {},
     "output_type": "execute_result"
    }
   ],
   "source": [
    "lag_steps = lag_steps[:g2.shape[0]]\n",
    "g2.shape[1]\n"
   ]
  },
  {
   "cell_type": "code",
   "execution_count": 81,
   "metadata": {
    "papermill": {
     "duration": 0.226137,
     "end_time": "2018-09-17T20:26:07.592939",
     "exception": false,
     "start_time": "2018-09-17T20:26:07.366802",
     "status": "completed"
    },
    "tags": []
   },
   "outputs": [
    {
     "name": "stdout",
     "output_type": "stream",
     "text": [
      "The correlation function is saved in /XF11ID/analysis/2019_1/yuzhang/Results/7095d1b4-53a4-4104-836e-be43c8d476ad/ with filename as uid=7095d1b4_fra_18000_28000_rings_g2.csv\n"
     ]
    }
   ],
   "source": [
    "if run_one_time:\n",
    "    \n",
    "    taus = lag_steps * timeperframe         \n",
    "    try:\n",
    "        g2_pds = save_g2_general( g2, taus=taus,qr= np.array( list( qval_dict.values() ) )[:g2.shape[1],0],\n",
    "                                            qz = np.array( list( qval_dict.values() ) )[:g2.shape[1],1],\n",
    "                             uid=uid_+'_g2.csv', path= data_dir, return_res=True )\n",
    "    except:\n",
    "        g2_pds = save_g2_general( g2, taus=taus,qr= np.array( list( qval_dict.values() ) )[:g2.shape[1],0],                                             \n",
    "                             uid=uid_+'_'+q_mask_name+'_g2.csv', path= data_dir, return_res=True )   \n",
    "    if cal_g2_error:    \n",
    "        try:\n",
    "            g2_err_pds = save_g2_general( g2_err, taus=taus,qr= np.array( list( qval_dict.values() ) )[:g2.shape[1],0],\n",
    "                                                qz = np.array( list( qval_dict.values() ) )[:g2.shape[1],1],\n",
    "                                 uid=uid_+'_g2_err.csv', path= data_dir, return_res=True )\n",
    "        except:\n",
    "            g2_err_pds = save_g2_general( g2_err, taus=taus,qr= np.array( list( qval_dict.values() ) )[:g2.shape[1],0],                                             \n",
    "                                 uid=uid_+'_'+q_mask_name+'_g2_err.csv', path= data_dir, return_res=True )         \n",
    "    "
   ]
  },
  {
   "cell_type": "markdown",
   "metadata": {
    "papermill": {
     "duration": 3e-05,
     "end_time": "2018-09-17T20:26:07.971842",
     "exception": false,
     "start_time": "2018-09-17T20:26:07.971812",
     "status": "completed"
    },
    "tags": []
   },
   "source": [
    "# Fit g2"
   ]
  },
  {
   "cell_type": "code",
   "execution_count": 86,
   "metadata": {
    "papermill": {
     "duration": 0.248622,
     "end_time": "2018-09-17T20:26:08.409307",
     "exception": false,
     "start_time": "2018-09-17T20:26:08.160685",
     "status": "completed"
    },
    "tags": []
   },
   "outputs": [
    {
     "name": "stdout",
     "output_type": "stream",
     "text": [
      "The g2 fitting parameters are saved in /XF11ID/analysis/2019_1/yuzhang/Results/7095d1b4-53a4-4104-836e-be43c8d476ad/uid=7095d1b4_fra_18000_28000_rings_g2_fit_paras.csv\n"
     ]
    }
   ],
   "source": [
    "if run_one_time:\n",
    "    g2_fit_result, taus_fit, g2_fit = get_g2_fit_general( g2,  taus, \n",
    "                function = fit_g2_func,  vlim=[0.95, 1.05], fit_range= None,   sequential_fit=True,\n",
    "            fit_variables={'baseline': True, 'beta': True, 'alpha':False,'relaxation_rate':True,},                                  \n",
    "            guess_values={'baseline':1.0,'beta': 0.2,'alpha':1.0,'relaxation_rate':1e3},\n",
    "            guess_limits = dict( baseline =[.8, 1.3], alpha=[0, 2],\n",
    "                        beta = [0, 1], relaxation_rate= [1e-7, 100000]) ,) \n",
    "    g2_fit_paras = save_g2_fit_para_tocsv(g2_fit_result,  filename= uid_ +'_'+q_mask_name +'_g2_fit_paras.csv', path=data_dir ) \n",
    "    "
   ]
  },
  {
   "cell_type": "code",
   "execution_count": 87,
   "metadata": {
    "papermill": {
     "duration": 1.492373,
     "end_time": "2018-09-17T20:26:10.192542",
     "exception": false,
     "start_time": "2018-09-17T20:26:08.700169",
     "status": "completed"
    },
    "scrolled": false,
    "tags": []
   },
   "outputs": [
    {
     "name": "stderr",
     "output_type": "stream",
     "text": [
      "No handles with labels found to put in legend.\n",
      "No handles with labels found to put in legend.\n"
     ]
    },
    {
     "data": {
      "image/png": "[encoded data removed]",
      "text/plain": [
       "<Figure size 720x720 with 17 Axes>"
      ]
     },
     "metadata": {
      "needs_background": "light"
     },
     "output_type": "display_data"
    }
   ],
   "source": [
    "if run_one_time:\n",
    "    if cal_g2_error:\n",
    "        g2_fit_err = np.zeros_like(g2_fit)\n",
    "        plot_g2_general( g2_dict={1:g2, 2:g2_fit}, taus_dict={1:taus, 2:taus_fit},\n",
    "                    vlim=[0.95, 1.05], g2_err_dict= {1:g2_err, 2: g2_fit_err},\n",
    "                qval_dict = dict(itertools.islice(qval_dict.items(),g2.shape[1])), fit_res= g2_fit_result,  geometry= scat_geometry_,filename= uid_+'_g2', \n",
    "        path= data_dir, function= fit_g2_func,  ylabel='g2', append_name=  '_fit')\n",
    "    else:    \n",
    "        plot_g2_general( g2_dict={1:g2, 2:g2_fit}, taus_dict={1:taus, 2:taus_fit}, vlim=[0.95, 1.05],\n",
    "                qval_dict = dict(itertools.islice(qval_dict.items(),g2.shape[1])), fit_res= g2_fit_result,  geometry= scat_geometry_,filename= uid_+'_g2', \n",
    "        path= data_dir, function= fit_g2_func,  ylabel='g2', append_name=  '_fit')\n",
    "    \n"
   ]
  },
  {
   "cell_type": "code",
   "execution_count": 88,
   "metadata": {
    "papermill": {
     "duration": 0.324734,
     "end_time": "2018-09-17T20:26:10.518604",
     "exception": false,
     "start_time": "2018-09-17T20:26:10.193870",
     "status": "completed"
    },
    "tags": []
   },
   "outputs": [
    {
     "name": "stdout",
     "output_type": "stream",
     "text": [
      "The fitted diffusion coefficient D0 is:  8.979e+07   A^2S-1\n"
     ]
    },
    {
     "data": {
      "image/png": "[encoded data removed]",
      "text/plain": [
       "<Figure size 432x288 with 1 Axes>"
      ]
     },
     "metadata": {
      "needs_background": "light"
     },
     "output_type": "display_data"
    }
   ],
   "source": [
    "if run_one_time:\n",
    "    if True:\n",
    "        fs, fe = 0, 10\n",
    "        #fs,fe=0, 6\n",
    "        qval_dict_ = {k:qval_dict[k] for k in list(qval_dict.keys())[fs:fe]  }\n",
    "        D0, qrate_fit_res = get_q_rate_fit_general(  qval_dict_, g2_fit_paras['relaxation_rate'][fs:fe], \n",
    "                                                   geometry=  scat_geometry_ )\n",
    "        plot_q_rate_fit_general( qval_dict_, g2_fit_paras['relaxation_rate'][fs:fe],  qrate_fit_res, \n",
    "                                geometry= scat_geometry_,uid=uid_  , path= data_dir )\n",
    "    else:\n",
    "        D0, qrate_fit_res = get_q_rate_fit_general(  qval_dict, g2_fit_paras['relaxation_rate'],\n",
    "                                    fit_range=[0, 26],   geometry= scat_geometry_ )    \n",
    "        plot_q_rate_fit_general( qval_dict, g2_fit_paras['relaxation_rate'],  qrate_fit_res,   \n",
    "                            geometry=  scat_geometry_,uid=uid_  ,\n",
    "                                show_fit=False, path= data_dir, plot_all_range=False)"
   ]
  },
  {
   "cell_type": "code",
   "execution_count": 85,
   "metadata": {
    "papermill": {
     "duration": 0.241942,
     "end_time": "2018-09-17T20:26:10.761647",
     "exception": false,
     "start_time": "2018-09-17T20:26:10.519705",
     "status": "completed"
    },
    "tags": []
   },
   "outputs": [],
   "source": [
    "#plot1D( x= qr, y=g2_fit_paras['beta'], ls='-', m = 'o', c='b', ylabel=r'$\\beta$', xlabel=r'$Q( \\AA^{-1} ) $' )\n"
   ]
  },
  {
   "cell_type": "markdown",
   "metadata": {
    "papermill": {
     "duration": 2.9e-05,
     "end_time": "2018-09-17T20:26:10.838374",
     "exception": false,
     "start_time": "2018-09-17T20:26:10.838345",
     "status": "completed"
    },
    "tags": []
   },
   "source": [
    "# For two-time"
   ]
  },
  {
   "cell_type": "code",
   "execution_count": 90,
   "metadata": {
    "papermill": {
     "duration": 0.144316,
     "end_time": "2018-09-17T20:26:11.182238",
     "exception": false,
     "start_time": "2018-09-17T20:26:11.037922",
     "status": "completed"
    },
    "tags": []
   },
   "outputs": [],
   "source": [
    "define_good_series = False\n",
    "#define_good_series = True\n",
    "if define_good_series:\n",
    "    good_start = 5\n",
    "    FD = Multifile(filename, beg = good_start, end = 1000)\n",
    "    uid_ = uidstr + '_fra_%s_%s'%(FD.beg, FD.end)\n",
    "    print( uid_ )"
   ]
  },
  {
   "cell_type": "code",
   "execution_count": 91,
   "metadata": {
    "papermill": {
     "duration": 0.167785,
     "end_time": "2018-09-17T20:26:11.374593",
     "exception": false,
     "start_time": "2018-09-17T20:26:11.206808",
     "status": "completed"
    },
    "tags": []
   },
   "outputs": [],
   "source": [
    "data_pixel = None\n",
    "if run_two_time:    \n",
    "    data_pixel =   Get_Pixel_Arrayc( FD, pixelist,  norm= norm ).get_data()"
   ]
  },
  {
   "cell_type": "code",
   "execution_count": 92,
   "metadata": {
    "papermill": {
     "duration": 0.205782,
     "end_time": "2018-09-17T20:26:11.596423",
     "exception": false,
     "start_time": "2018-09-17T20:26:11.390641",
     "status": "completed"
    },
    "tags": []
   },
   "outputs": [
    {
     "name": "stdout",
     "output_type": "stream",
     "text": [
      "Total time: 0.000 sec\n"
     ]
    }
   ],
   "source": [
    "import time\n",
    "t0=time.time()\n",
    "g12b=None\n",
    "if run_two_time:     \n",
    "    g12b = auto_two_Arrayc(  data_pixel,  roi_mask, index = None   )\n",
    "    if run_dose:\n",
    "        np.save( data_dir + 'uid=%s_g12b'%uid, g12b)\n",
    "run_time( t0 )  "
   ]
  },
  {
   "cell_type": "code",
   "execution_count": 93,
   "metadata": {
    "papermill": {
     "duration": 0.227011,
     "end_time": "2018-09-17T20:26:11.849643",
     "exception": false,
     "start_time": "2018-09-17T20:26:11.622632",
     "status": "completed"
    },
    "scrolled": false,
    "tags": []
   },
   "outputs": [],
   "source": [
    "if run_two_time:\n",
    "    show_C12(g12b, q_ind= 2, qlabel=dict(itertools.islice(qval_dict.items(),g2.shape[1])),N1= FD.beg,logs=False, N2=min( FD.end,10000), vmin= 1.0, vmax=1.18,timeperframe=timeperframe,save=True, path= data_dir, uid = uid_ ,cmap=plt.cm.jet)#cmap=cmap_albula)    "
   ]
  },
  {
   "cell_type": "code",
   "execution_count": 94,
   "metadata": {
    "papermill": {
     "duration": 0.231752,
     "end_time": "2018-09-17T20:26:12.086032",
     "exception": false,
     "start_time": "2018-09-17T20:26:11.854280",
     "status": "completed"
    },
    "tags": []
   },
   "outputs": [],
   "source": [
    "multi_tau_steps = True\n",
    "if run_two_time:\n",
    "    if lag_steps is None:\n",
    "        num_bufs=8\n",
    "        noframes = FD.end - FD.beg\n",
    "        num_levels = int(np.log( noframes/(num_bufs-1))/np.log(2) +1) +1\n",
    "        tot_channels, lag_steps, dict_lag = multi_tau_lags(num_levels, num_bufs)\n",
    "        max_taus= lag_steps.max()\n",
    "        \n",
    "    #max_taus= lag_steps.max()  \n",
    "    max_taus = Nimg    \n",
    "    t0=time.time()\n",
    "    #tausb = np.arange( g2b.shape[0])[:max_taus] *timeperframe\n",
    "    if multi_tau_steps:\n",
    "        lag_steps_ = lag_steps[   lag_steps <= g12b.shape[0] ]\n",
    "        g2b = get_one_time_from_two_time(g12b)[lag_steps_]\n",
    "        tausb = lag_steps_ *timeperframe\n",
    "    else:\n",
    "        tausb = (np.arange( g12b.shape[0]) *timeperframe)[:-200]\n",
    "        g2b = (get_one_time_from_two_time(g12b))[:-200]\n",
    "    run_time(t0)\n",
    "         \n",
    "    g2b_pds = save_g2_general( g2b, taus=tausb, qr= np.array( list( qval_dict.values() ) )[:g2.shape[1],0],\n",
    "                              qz=None, uid=uid_+'_'+q_mask_name+'_g2b.csv', path= data_dir, return_res=True )\n",
    "    "
   ]
  },
  {
   "cell_type": "code",
   "execution_count": 95,
   "metadata": {
    "papermill": {
     "duration": 0.172454,
     "end_time": "2018-09-17T20:26:12.259564",
     "exception": false,
     "start_time": "2018-09-17T20:26:12.087110",
     "status": "completed"
    },
    "tags": []
   },
   "outputs": [],
   "source": [
    "if run_two_time:    \n",
    "    g2b_fit_result, tausb_fit, g2b_fit = get_g2_fit_general( g2b,  tausb, \n",
    "                function = fit_g2_func,  vlim=[0.95, 1.05], fit_range= None,  \n",
    "            fit_variables={'baseline':False, 'beta': True, 'alpha':True,'relaxation_rate':True},                                  \n",
    "            guess_values={'baseline':1.0,'beta': 0.15,'alpha':1.0,'relaxation_rate':1e-3,},\n",
    "            guess_limits = dict( baseline =[1, 1.8], alpha=[0, 2],\n",
    "                        beta = [0, 1], relaxation_rate= [1e-8, 5000]) ) \n",
    "    g2b_fit_paras = save_g2_fit_para_tocsv(g2b_fit_result,  filename= uid_  +'_'+q_mask_name+'_g2b_fit_paras.csv', path=data_dir )\n"
   ]
  },
  {
   "cell_type": "code",
   "execution_count": 96,
   "metadata": {
    "papermill": {
     "duration": 0.187981,
     "end_time": "2018-09-17T20:26:12.448541",
     "exception": false,
     "start_time": "2018-09-17T20:26:12.260560",
     "status": "completed"
    },
    "tags": []
   },
   "outputs": [],
   "source": [
    "#plot1D( x = tausb[1:], y =g2b[1:,0], ylim=[0.95, 1.46], xlim = [0.0001, 10], m='', c='r', ls = '-',\n",
    "#       logx=True, title='one_time_corelation', xlabel = r\"$\\tau $ $(s)$\",    )"
   ]
  },
  {
   "cell_type": "code",
   "execution_count": 97,
   "metadata": {
    "papermill": {
     "duration": 0.188637,
     "end_time": "2018-09-17T20:26:12.648474",
     "exception": false,
     "start_time": "2018-09-17T20:26:12.459837",
     "status": "completed"
    },
    "scrolled": false,
    "tags": []
   },
   "outputs": [],
   "source": [
    "if run_two_time:\n",
    "    plot_g2_general( g2_dict={1:g2b, 2:g2b_fit}, taus_dict={1:tausb, 2:tausb_fit}, vlim=[0.95, 1.05],\n",
    "                qval_dict=dict(itertools.islice(qval_dict.items(),g2.shape[1])), fit_res= g2b_fit_result,  geometry=scat_geometry_,filename=uid_+'_g2', \n",
    "                    path= data_dir, function= fit_g2_func,  ylabel='g2', append_name=  '_b_fit')"
   ]
  },
  {
   "cell_type": "code",
   "execution_count": 98,
   "metadata": {
    "papermill": {
     "duration": 0.205089,
     "end_time": "2018-09-17T20:26:12.891564",
     "exception": false,
     "start_time": "2018-09-17T20:26:12.686475",
     "status": "completed"
    },
    "tags": []
   },
   "outputs": [],
   "source": [
    "if run_two_time:\n",
    "    D0b, qrate_fit_resb = get_q_rate_fit_general(  dict(itertools.islice(qval_dict.items(),g2.shape[1])), g2b_fit_paras['relaxation_rate'],\n",
    "                                        fit_range=[0, 10],  geometry= scat_geometry_ )"
   ]
  },
  {
   "cell_type": "code",
   "execution_count": 99,
   "metadata": {
    "papermill": {
     "duration": 0.17318,
     "end_time": "2018-09-17T20:26:13.112308",
     "exception": false,
     "start_time": "2018-09-17T20:26:12.939128",
     "status": "completed"
    },
    "tags": []
   },
   "outputs": [],
   "source": [
    "#qval_dict, g2b_fit_paras['relaxation_rate']"
   ]
  },
  {
   "cell_type": "code",
   "execution_count": 100,
   "metadata": {
    "papermill": {
     "duration": 0.194033,
     "end_time": "2018-09-17T20:26:13.402129",
     "exception": false,
     "start_time": "2018-09-17T20:26:13.208096",
     "status": "completed"
    },
    "tags": []
   },
   "outputs": [],
   "source": [
    "if run_two_time:    \n",
    "    if True:\n",
    "        fs, fe = 0,8\n",
    "        #fs, fe = 0,12\n",
    "        qval_dict_ = {k:qval_dict[k] for k in list(qval_dict.keys())[fs:fe]  }\n",
    "        D0b, qrate_fit_resb = get_q_rate_fit_general(  qval_dict_, g2b_fit_paras['relaxation_rate'][fs:fe], geometry= scat_geometry_ )\n",
    "        plot_q_rate_fit_general( qval_dict_, g2b_fit_paras['relaxation_rate'][fs:fe],  qrate_fit_resb, \n",
    "                            geometry= scat_geometry_,uid=uid_ +'_two_time' , path= data_dir )\n",
    "    else:\n",
    "    \n",
    "        D0b, qrate_fit_resb = get_q_rate_fit_general(  qval_dict, g2b_fit_paras['relaxation_rate'],\n",
    "                                        fit_range=[0, 10],  geometry= scat_geometry_ )\n",
    "        plot_q_rate_fit_general( qval_dict, g2b_fit_paras['relaxation_rate'],  qrate_fit_resb,   \n",
    "                            geometry= scat_geometry_,uid=uid_ +'_two_time', show_fit=False,path= data_dir, plot_all_range= True )"
   ]
  },
  {
   "cell_type": "code",
   "execution_count": 101,
   "metadata": {
    "papermill": {
     "duration": 0.222635,
     "end_time": "2018-09-17T20:26:13.711026",
     "exception": false,
     "start_time": "2018-09-17T20:26:13.488391",
     "status": "completed"
    },
    "scrolled": false,
    "tags": []
   },
   "outputs": [],
   "source": [
    "if run_two_time and run_one_time:\n",
    "    plot_g2_general( g2_dict={1:g2, 2:g2b}, taus_dict={1:taus, 2:tausb},vlim=[0.99, 1.007],\n",
    "                qval_dict=dict(itertools.islice(qval_dict.items(),g2.shape[1])), g2_labels=['from_one_time', 'from_two_time'],\n",
    "            geometry=scat_geometry_,filename=uid_+'_g2_two_g2', path= data_dir, ylabel='g2', )"
   ]
  },
  {
   "cell_type": "markdown",
   "metadata": {
    "papermill": {
     "duration": 3e-05,
     "end_time": "2018-09-17T20:26:13.836796",
     "exception": false,
     "start_time": "2018-09-17T20:26:13.836766",
     "status": "completed"
    },
    "tags": []
   },
   "source": [
    "# Run Dose dependent analysis"
   ]
  },
  {
   "cell_type": "code",
   "execution_count": 102,
   "metadata": {
    "papermill": {
     "duration": 0.146649,
     "end_time": "2018-09-17T20:26:14.243998",
     "exception": false,
     "start_time": "2018-09-17T20:26:14.097349",
     "status": "completed"
    },
    "tags": []
   },
   "outputs": [],
   "source": [
    "#run_dose = True"
   ]
  },
  {
   "cell_type": "code",
   "execution_count": 103,
   "metadata": {
    "papermill": {
     "duration": 0.21955,
     "end_time": "2018-09-17T20:26:14.495492",
     "exception": false,
     "start_time": "2018-09-17T20:26:14.275942",
     "status": "completed"
    },
    "tags": []
   },
   "outputs": [],
   "source": [
    "if run_dose:\n",
    "    get_two_time_mulit_uids( [uid], roi_mask,  norm= norm,  bin_frame_number=1, \n",
    "                        path= data_dir0, force_generate=False, compress_path =  cmp_path + '/' )"
   ]
  },
  {
   "cell_type": "code",
   "execution_count": 104,
   "metadata": {
    "papermill": {
     "duration": 0.258218,
     "end_time": "2018-09-17T20:26:14.839549",
     "exception": false,
     "start_time": "2018-09-17T20:26:14.581331",
     "status": "completed"
    },
    "tags": []
   },
   "outputs": [],
   "source": [
    "try:\n",
    "    print( md['transmission'] )\n",
    "except:\n",
    "    md['transmission'] =1"
   ]
  },
  {
   "cell_type": "code",
   "execution_count": 105,
   "metadata": {
    "papermill": {
     "duration": 0.254795,
     "end_time": "2018-09-17T20:26:15.155120",
     "exception": false,
     "start_time": "2018-09-17T20:26:14.900325",
     "status": "completed"
    },
    "tags": []
   },
   "outputs": [
    {
     "data": {
      "text/plain": [
       "1e-04"
      ]
     },
     "execution_count": 105,
     "metadata": {},
     "output_type": "execute_result"
    }
   ],
   "source": [
    "exposuretime"
   ]
  },
  {
   "cell_type": "code",
   "execution_count": 106,
   "metadata": {
    "papermill": {
     "duration": 0.247063,
     "end_time": "2018-09-17T20:26:15.468423",
     "exception": false,
     "start_time": "2018-09-17T20:26:15.221360",
     "status": "completed"
    },
    "tags": []
   },
   "outputs": [],
   "source": [
    "if run_dose:\n",
    "    N = len(imgs)\n",
    "    print(N)\n",
    "    #exposure_dose = md['transmission'] * exposuretime* np.int_([     N/16, N/8, N/4 ,N/2, 3*N/4, N*0.99 ])\n",
    "    exposure_dose = md['transmission'] * exposuretime* np.int_([      N/8, N/4 ,N/2, 3*N/4, N*0.99 ])\n",
    "    \n",
    "    print( exposure_dose )"
   ]
  },
  {
   "cell_type": "code",
   "execution_count": 107,
   "metadata": {
    "papermill": {
     "duration": 0.073965,
     "end_time": "2018-09-17T20:26:15.614010",
     "exception": false,
     "start_time": "2018-09-17T20:26:15.540045",
     "status": "completed"
    },
    "tags": []
   },
   "outputs": [],
   "source": [
    "if run_dose:\n",
    "    taus_uids, g2_uids = get_series_one_time_mulit_uids( [ uid ],  qval_dict, good_start=good_start,  \n",
    "                    path= data_dir0, exposure_dose = exposure_dose,  num_bufs =8, save_g2= False,\n",
    "                                                   dead_time = 0, trans = [ md['transmission'] ] )"
   ]
  },
  {
   "cell_type": "code",
   "execution_count": 108,
   "metadata": {
    "papermill": {
     "duration": 0.148843,
     "end_time": "2018-09-17T20:26:15.982590",
     "exception": false,
     "start_time": "2018-09-17T20:26:15.833747",
     "status": "completed"
    },
    "scrolled": false,
    "tags": []
   },
   "outputs": [],
   "source": [
    "if run_dose:    \n",
    "    plot_dose_g2( taus_uids, g2_uids, ylim=[1.0, 1.2], vshift= 0.00,\n",
    "                 qval_dict = qval_dict, fit_res= None,  geometry= scat_geometry_,\n",
    "                 filename= '%s_dose_analysis'%uid_, \n",
    "                path= data_dir, function= None,  ylabel='g2_Dose', g2_labels= None, append_name=  '' )"
   ]
  },
  {
   "cell_type": "code",
   "execution_count": 109,
   "metadata": {
    "papermill": {
     "duration": 0.159058,
     "end_time": "2018-09-17T20:26:16.173333",
     "exception": false,
     "start_time": "2018-09-17T20:26:16.014275",
     "status": "completed"
    },
    "tags": []
   },
   "outputs": [],
   "source": [
    "if run_dose:\n",
    "    qth_interest = 1\n",
    "    plot_dose_g2( taus_uids, g2_uids, qth_interest= qth_interest, ylim=[0.98, 1.2], vshift= 0.00,\n",
    "                 qval_dict = qval_dict, fit_res= None,  geometry= scat_geometry_,\n",
    "                 filename= '%s_dose_analysis'%uidstr, \n",
    "                path= data_dir, function= None,  ylabel='g2_Dose', g2_labels= None, append_name=  '' )"
   ]
  },
  {
   "cell_type": "markdown",
   "metadata": {
    "papermill": {
     "duration": 2.8e-05,
     "end_time": "2018-09-17T20:26:16.207416",
     "exception": false,
     "start_time": "2018-09-17T20:26:16.207388",
     "status": "completed"
    },
    "tags": []
   },
   "source": [
    "# Four Time Correlation"
   ]
  },
  {
   "cell_type": "code",
   "execution_count": 110,
   "metadata": {
    "papermill": {
     "duration": 0.193533,
     "end_time": "2018-09-17T20:26:16.592019",
     "exception": false,
     "start_time": "2018-09-17T20:26:16.398486",
     "status": "completed"
    },
    "tags": []
   },
   "outputs": [],
   "source": [
    "if run_four_time:\n",
    "    t0=time.time()\n",
    "    g4 = get_four_time_from_two_time(g12b, g2=g2b)[:int(max_taus)]\n",
    "    run_time(t0)"
   ]
  },
  {
   "cell_type": "code",
   "execution_count": 111,
   "metadata": {
    "papermill": {
     "duration": 0.24286,
     "end_time": "2018-09-17T20:26:16.861736",
     "exception": false,
     "start_time": "2018-09-17T20:26:16.618876",
     "status": "completed"
    },
    "tags": []
   },
   "outputs": [],
   "source": [
    "if run_four_time:\n",
    "    taus4 = np.arange( g4.shape[0])*timeperframe        \n",
    "    g4_pds = save_g2_general( g4, taus=taus4, qr=np.array( list( qval_dict.values() ) )[:,0],\n",
    "                             qz=None, uid=uid_ +'_g4.csv', path= data_dir, return_res=True )"
   ]
  },
  {
   "cell_type": "code",
   "execution_count": 112,
   "metadata": {
    "papermill": {
     "duration": 0.242237,
     "end_time": "2018-09-17T20:26:17.179286",
     "exception": false,
     "start_time": "2018-09-17T20:26:16.937049",
     "status": "completed"
    },
    "scrolled": true,
    "tags": []
   },
   "outputs": [],
   "source": [
    "if run_four_time:\n",
    "    plot_g2_general( g2_dict={1:g4}, taus_dict={1:taus4},vlim=[0.95, 1.05], qval_dict=qval_dict, fit_res= None, \n",
    "                geometry=scat_geometry_,filename=uid_+'_g4',path= data_dir,   ylabel='g4')"
   ]
  },
  {
   "cell_type": "markdown",
   "metadata": {
    "papermill": {
     "duration": 3.1e-05,
     "end_time": "2018-09-17T20:26:17.257497",
     "exception": false,
     "start_time": "2018-09-17T20:26:17.257466",
     "status": "completed"
    },
    "tags": []
   },
   "source": [
    "# Speckle Visiblity"
   ]
  },
  {
   "cell_type": "code",
   "execution_count": 113,
   "metadata": {
    "papermill": {
     "duration": 0.180923,
     "end_time": "2018-09-17T20:26:17.850471",
     "exception": false,
     "start_time": "2018-09-17T20:26:17.669548",
     "status": "completed"
    },
    "tags": []
   },
   "outputs": [],
   "source": [
    "if run_xsvs:    \n",
    "    max_cts = get_max_countc(FD, roi_mask )    \n",
    "    #max_cts = 15 #for eiger 500 K\n",
    "    qind, pixelist = roi.extract_label_indices(   roi_mask  )\n",
    "    noqs = len( np.unique(qind) )\n",
    "    nopr = np.bincount(qind, minlength=(noqs+1))[1:]\n",
    "    #time_steps = np.array( utils.geometric_series(2,   len(imgs)   ) )\n",
    "    time_steps = [0,1]  #only run the first two levels\n",
    "    num_times = len(time_steps)    \n",
    "    times_xsvs = exposuretime + (2**(  np.arange( len(time_steps) ) ) -1 ) * timeperframe   \n",
    "    print( 'The max counts are: %s'%max_cts )\n"
   ]
  },
  {
   "cell_type": "markdown",
   "metadata": {
    "papermill": {
     "duration": 2.8e-05,
     "end_time": "2018-09-17T20:26:17.855051",
     "exception": false,
     "start_time": "2018-09-17T20:26:17.855023",
     "status": "completed"
    },
    "tags": []
   },
   "source": [
    "### Do historam "
   ]
  },
  {
   "cell_type": "code",
   "execution_count": 114,
   "metadata": {
    "papermill": {
     "duration": 0.181248,
     "end_time": "2018-09-17T20:26:18.214000",
     "exception": false,
     "start_time": "2018-09-17T20:26:18.032752",
     "status": "completed"
    },
    "tags": []
   },
   "outputs": [],
   "source": [
    "if run_xsvs:\n",
    "    if roi_avg is  None:\n",
    "        times_roi, mean_int_sets = cal_each_ring_mean_intensityc(FD, roi_mask, timeperframe = None,  ) \n",
    "        roi_avg = np.average( mean_int_sets, axis=0)\n",
    "    \n",
    "    t0=time.time()\n",
    "    spec_bins, spec_his, spec_std, spec_sum  =  xsvsp( FD, np.int_(roi_mask), norm=None,\n",
    "                max_cts=int(max_cts+2),  bad_images=bad_frame_list, only_two_levels=True )    \n",
    "    spec_kmean =  np.array(  [roi_avg * 2**j for j in  range( spec_his.shape[0] )] )\n",
    "    run_time(t0)\n",
    "    spec_pds =  save_bin_his_std( spec_bins, spec_his, spec_std, filename=uid_+'_spec_res.csv', path=data_dir ) "
   ]
  },
  {
   "cell_type": "markdown",
   "metadata": {
    "papermill": {
     "duration": 2.9e-05,
     "end_time": "2018-09-17T20:26:18.241078",
     "exception": false,
     "start_time": "2018-09-17T20:26:18.241049",
     "status": "completed"
    },
    "tags": []
   },
   "source": [
    "### Do historam fit by negtive binominal function with maximum likehood method"
   ]
  },
  {
   "cell_type": "code",
   "execution_count": 115,
   "metadata": {
    "papermill": {
     "duration": 0.25964,
     "end_time": "2018-09-17T20:26:18.755409",
     "exception": false,
     "start_time": "2018-09-17T20:26:18.495769",
     "status": "completed"
    },
    "tags": []
   },
   "outputs": [],
   "source": [
    "if run_xsvs:    \n",
    "    ML_val, KL_val,K_ = get_xsvs_fit(  spec_his, spec_sum, spec_kmean, \n",
    "                        spec_std, max_bins=2, fit_range=[1,60], varyK= False  )\n",
    "    #print( 'The observed average photon counts are: %s'%np.round(K_mean,4))\n",
    "    #print( 'The fitted average photon counts are: %s'%np.round(K_,4)) \n",
    "    print( 'The difference sum of average photon counts between fit and data are: %s'%np.round( \n",
    "            abs(np.sum( spec_kmean[0,:] - K_ )),4))\n",
    "    print( '#'*30)\n",
    "    qth=   0 \n",
    "    print( 'The fitted M for Qth= %s are: %s'%(qth, ML_val[qth]) )\n",
    "    print( K_[qth])\n",
    "    print( '#'*30)"
   ]
  },
  {
   "cell_type": "markdown",
   "metadata": {
    "papermill": {
     "duration": 3e-05,
     "end_time": "2018-09-17T20:26:18.814626",
     "exception": false,
     "start_time": "2018-09-17T20:26:18.814596",
     "status": "completed"
    },
    "tags": []
   },
   "source": [
    "## Plot fit results"
   ]
  },
  {
   "cell_type": "code",
   "execution_count": null,
   "metadata": {
    "papermill": {
     "duration": 8e-06,
     "end_time": "2018-09-17T20:26:19.087013",
     "exception": null,
     "start_time": "2018-09-17T20:26:19.087005",
     "status": "completed"
    },
    "tags": []
   },
   "outputs": [],
   "source": []
  },
  {
   "cell_type": "code",
   "execution_count": 116,
   "metadata": {
    "papermill": {
     "duration": 0.165263,
     "end_time": "2018-09-17T20:26:19.404518",
     "exception": false,
     "start_time": "2018-09-17T20:26:19.239255",
     "status": "completed"
    },
    "scrolled": false,
    "tags": []
   },
   "outputs": [],
   "source": [
    "if run_xsvs:   \n",
    "    qr = [qval_dict[k][0] for k in list(qval_dict.keys()) ]\n",
    "    plot_xsvs_fit(  spec_his, ML_val, KL_val, K_mean = spec_kmean, spec_std=spec_std,\n",
    "                  xlim = [0,10], vlim =[.9, 1.1],\n",
    "        uid=uid_, qth= qth_interest, logy= True, times= times_xsvs, q_ring_center=qr, path=data_dir)\n",
    "    \n",
    "    plot_xsvs_fit(  spec_his, ML_val, KL_val, K_mean = spec_kmean, spec_std = spec_std,\n",
    "                  xlim = [0,15], vlim =[.9, 1.1],\n",
    "        uid=uid_, qth= None, logy= True, times= times_xsvs, q_ring_center=qr, path=data_dir )"
   ]
  },
  {
   "cell_type": "markdown",
   "metadata": {
    "papermill": {
     "duration": 2.8e-05,
     "end_time": "2018-09-17T20:26:19.412119",
     "exception": false,
     "start_time": "2018-09-17T20:26:19.412091",
     "status": "completed"
    },
    "tags": []
   },
   "source": [
    "### Get contrast"
   ]
  },
  {
   "cell_type": "code",
   "execution_count": 117,
   "metadata": {
    "papermill": {
     "duration": 0.172803,
     "end_time": "2018-09-17T20:26:19.747714",
     "exception": false,
     "start_time": "2018-09-17T20:26:19.574911",
     "status": "completed"
    },
    "tags": []
   },
   "outputs": [],
   "source": [
    "if run_xsvs:\n",
    "    contrast_factorL = get_contrast( ML_val)\n",
    "    spec_km_pds = save_KM(  spec_kmean, KL_val, ML_val, qs=qr, level_time=times_xsvs, uid=uid_, path = data_dir )\n",
    "    #spec_km_pds"
   ]
  },
  {
   "cell_type": "markdown",
   "metadata": {
    "papermill": {
     "duration": 3e-05,
     "end_time": "2018-09-17T20:26:19.749005",
     "exception": false,
     "start_time": "2018-09-17T20:26:19.748975",
     "status": "completed"
    },
    "tags": []
   },
   "source": [
    "### Plot contrast with g2 results"
   ]
  },
  {
   "cell_type": "code",
   "execution_count": 118,
   "metadata": {
    "papermill": {
     "duration": 0.209341,
     "end_time": "2018-09-17T20:26:20.121097",
     "exception": false,
     "start_time": "2018-09-17T20:26:19.911756",
     "status": "completed"
    },
    "scrolled": false,
    "tags": []
   },
   "outputs": [],
   "source": [
    "if run_xsvs:    \n",
    "    plot_g2_contrast( contrast_factorL, g2b, times_xsvs, tausb, qr, \n",
    "                     vlim=[0.8,1.2], qth = qth_interest, uid=uid_,path = data_dir, legend_size=14)\n",
    "\n",
    "    plot_g2_contrast( contrast_factorL, g2b, times_xsvs, tausb, qr, \n",
    "                     vlim=[0.8,1.2], qth = None, uid=uid_,path = data_dir, legend_size=4)"
   ]
  },
  {
   "cell_type": "code",
   "execution_count": 119,
   "metadata": {
    "papermill": {
     "duration": 0.24178,
     "end_time": "2018-09-17T20:26:20.467898",
     "exception": false,
     "start_time": "2018-09-17T20:26:20.226118",
     "status": "completed"
    },
    "tags": []
   },
   "outputs": [],
   "source": [
    "#from chxanalys.chx_libs import cmap_vge, cmap_albula, Javascript"
   ]
  },
  {
   "cell_type": "markdown",
   "metadata": {
    "papermill": {
     "duration": 3e-05,
     "end_time": "2018-09-17T20:26:20.546394",
     "exception": false,
     "start_time": "2018-09-17T20:26:20.546364",
     "status": "completed"
    },
    "tags": []
   },
   "source": [
    "# Export Results to a HDF5 File"
   ]
  },
  {
   "cell_type": "code",
   "execution_count": 120,
   "metadata": {
    "papermill": {
     "duration": 0.30702,
     "end_time": "2018-09-17T20:26:21.076142",
     "exception": false,
     "start_time": "2018-09-17T20:26:20.769122",
     "status": "completed"
    },
    "tags": []
   },
   "outputs": [],
   "source": [
    "md['mask_file']= mask_path + mask_name\n",
    "md['roi_mask_file']= fp\n",
    "md['mask'] = mask\n",
    "#md['NOTEBOOK_FULL_PATH'] =  data_dir + get_current_pipeline_fullpath(NFP).split('/')[-1]\n",
    "md['good_start'] = good_start\n",
    "md['bad_frame_list'] = bad_frame_list\n",
    "md['avg_img'] = avg_img\n",
    "md['roi_mask'] = roi_mask\n",
    "md['setup_pargs'] = setup_pargs\n",
    "if scat_geometry == 'gi_saxs':        \n",
    "    md['Qr'] = Qr\n",
    "    md['Qz'] = Qz\n",
    "    md['qval_dict'] = qval_dict\n",
    "    md['beam_center_x'] =  inc_x0\n",
    "    md['beam_center_y']=   inc_y0\n",
    "    md['beam_refl_center_x'] = refl_x0\n",
    "    md['beam_refl_center_y'] = refl_y0\n",
    "\n",
    "\n",
    "elif scat_geometry == 'gi_waxs':\n",
    "    md['beam_center_x'] =  center[1]\n",
    "    md['beam_center_y']=  center[0]\n",
    "else:\n",
    "    md['qr']= qr\n",
    "    #md['qr_edge'] = qr_edge\n",
    "    md['qval_dict'] = qval_dict\n",
    "    md['beam_center_x'] =  center[1]\n",
    "    md['beam_center_y']=  center[0]            \n",
    "\n",
    "md['beg'] = FD.beg\n",
    "md['end'] = FD.end\n",
    "md['t_print0'] = t_print0\n",
    "md['qth_interest'] = qth_interest\n",
    "md['metadata_file'] = data_dir + 'uid=%s_md.pkl'%uid\n",
    "\n",
    "psave_obj(  md, data_dir + 'uid=%s_md.pkl'%uid ) #save the setup parameters\n",
    "save_dict_csv( md,  data_dir + 'uid=%s_md.csv'%uid, 'w')\n",
    "\n",
    "Exdt = {} \n",
    "if scat_geometry == 'gi_saxs':  \n",
    "    for k,v in zip( ['md', 'roi_mask','qval_dict','avg_img','mask','pixel_mask', 'imgsum', 'bad_frame_list', 'qr_1d_pds'], \n",
    "                [md,    roi_mask, qval_dict, avg_img,mask,pixel_mask, imgsum, bad_frame_list, qr_1d_pds] ):\n",
    "        Exdt[ k ] = v\n",
    "elif scat_geometry == 'saxs': \n",
    "    for k,v in zip( ['md', 'q_saxs', 'iq_saxs','iqst','qt','roi_mask','qval_dict','avg_img','mask','pixel_mask', 'imgsum', 'bad_frame_list'], \n",
    "                [md, q_saxs, iq_saxs, iqst, qt,roi_mask, qval_dict, avg_img,mask,pixel_mask, imgsum, bad_frame_list] ):\n",
    "        Exdt[ k ] = v\n",
    "elif scat_geometry == 'gi_waxs': \n",
    "    for k,v in zip( ['md', 'roi_mask','qval_dict','avg_img','mask','pixel_mask', 'imgsum', 'bad_frame_list'], \n",
    "                [md,       roi_mask, qval_dict, avg_img,mask,pixel_mask, imgsum, bad_frame_list] ):\n",
    "        Exdt[ k ] = v\n",
    "        \n",
    "if run_waterfall:Exdt['wat'] =  wat\n",
    "if run_t_ROI_Inten:Exdt['times_roi'] = times_roi;Exdt['mean_int_sets']=mean_int_sets\n",
    "if run_one_time:\n",
    "    if run_invariant_analysis:\n",
    "        for k,v in zip( ['taus','g2','g2_fit_paras', 'time_stamp','invariant'], [taus,g2,g2_fit_paras,time_stamp,invariant] ):Exdt[ k ] = v\n",
    "    else:\n",
    "        for k,v in zip( ['taus','g2','g2_fit_paras'  ], [taus,g2,g2_fit_paras ] ):Exdt[ k ] = v\n",
    "            \n",
    "if run_two_time:\n",
    "    for k,v in zip( ['tausb','g2b','g2b_fit_paras', 'g12b'], [tausb,g2b,g2b_fit_paras,g12b] ):Exdt[ k ] = v\n",
    "    #for k,v in zip( ['tausb','g2b','g2b_fit_paras', ], [tausb,g2b,g2b_fit_paras] ):Exdt[ k ] = v    \n",
    "if run_dose:\n",
    "    for k,v in zip( [ 'taus_uids', 'g2_uids' ], [taus_uids, g2_uids] ):Exdt[ k ] = v\n",
    "if run_four_time:\n",
    "    for k,v in zip( ['taus4','g4'], [taus4,g4] ):Exdt[ k ] = v\n",
    "if run_xsvs:\n",
    "    for k,v in zip( ['spec_kmean','spec_pds','times_xsvs','spec_km_pds','contrast_factorL'], \n",
    "                   [ spec_kmean,spec_pds,times_xsvs,spec_km_pds,contrast_factorL] ):Exdt[ k ] = v "
   ]
  },
  {
   "cell_type": "code",
   "execution_count": 121,
   "metadata": {
    "papermill": {
     "duration": 0.258203,
     "end_time": "2018-09-17T20:26:21.656956",
     "exception": false,
     "start_time": "2018-09-17T20:26:21.398753",
     "status": "completed"
    },
    "tags": []
   },
   "outputs": [
    {
     "name": "stdout",
     "output_type": "stream",
     "text": [
      "The xpcs analysis results are exported to /XF11ID/analysis/2019_1/yuzhang/Results/7095d1b4-53a4-4104-836e-be43c8d476ad/ with filename as uid=7095d1b4-53a4-4104-836e-be43c8d476ad_rings_Res.h5\n"
     ]
    }
   ],
   "source": [
    "export_xpcs_results_to_h5( 'uid=%s_%s_Res.h5'%(md['uid'],q_mask_name), data_dir, export_dict = Exdt )\n",
    "#extract_dict = extract_xpcs_results_from_h5( filename = 'uid=%s_Res.h5'%md['uid'], import_dir = data_dir )"
   ]
  },
  {
   "cell_type": "code",
   "execution_count": 122,
   "metadata": {
    "papermill": {
     "duration": 0.142315,
     "end_time": "2018-09-17T20:26:21.800450",
     "exception": false,
     "start_time": "2018-09-17T20:26:21.658135",
     "status": "completed"
    },
    "tags": []
   },
   "outputs": [],
   "source": [
    "#g2npy_filename =  data_dir  + '/' + 'uid=%s_g12b.npy'%uid\n",
    "#print(g2npy_filename)\n",
    "#if os.path.exists( g2npy_filename):\n",
    "#    print('Will delete this file=%s.'%g2npy_filename)\n",
    "#    os.remove( g2npy_filename  )\n"
   ]
  },
  {
   "cell_type": "code",
   "execution_count": 123,
   "metadata": {
    "papermill": {
     "duration": 0.257143,
     "end_time": "2018-09-17T20:26:22.117637",
     "exception": false,
     "start_time": "2018-09-17T20:26:21.860494",
     "status": "completed"
    },
    "scrolled": false,
    "tags": []
   },
   "outputs": [],
   "source": [
    "#extract_dict = extract_xpcs_results_from_h5( filename = 'uid=%s_Res.h5'%md['uid'], import_dir = data_dir )"
   ]
  },
  {
   "cell_type": "code",
   "execution_count": 124,
   "metadata": {
    "papermill": {
     "duration": 0.278563,
     "end_time": "2018-09-17T20:26:22.453099",
     "exception": false,
     "start_time": "2018-09-17T20:26:22.174536",
     "status": "completed"
    },
    "tags": []
   },
   "outputs": [],
   "source": [
    "#extract_dict = extract_xpcs_results_from_h5( filename = 'uid=%s_Res.h5'%md['uid'], import_dir = data_dir )"
   ]
  },
  {
   "cell_type": "markdown",
   "metadata": {
    "papermill": {
     "duration": 3e-05,
     "end_time": "2018-09-17T20:26:22.498475",
     "exception": false,
     "start_time": "2018-09-17T20:26:22.498445",
     "status": "completed"
    },
    "tags": []
   },
   "source": [
    "# Creat PDF Report"
   ]
  },
  {
   "cell_type": "code",
   "execution_count": 125,
   "metadata": {
    "papermill": {
     "duration": 0.170694,
     "end_time": "2018-09-17T20:26:22.913997",
     "exception": false,
     "start_time": "2018-09-17T20:26:22.743303",
     "status": "completed"
    },
    "tags": []
   },
   "outputs": [],
   "source": [
    "pdf_out_dir = os.path.join('/XF11ID/analysis/', CYCLE, username, 'Results/')\n",
    "\n",
    "pdf_filename = \"XPCS_Analysis_Report2_for_uid=%s%s%s.pdf\"%(uid,pdf_version,q_mask_name)\n",
    "if run_xsvs:\n",
    "    pdf_filename = \"XPCS_XSVS_Analysis_Report_for_uid=%s%s%s.pdf\"%(uid,pdf_version,q_mask_name)"
   ]
  },
  {
   "cell_type": "code",
   "execution_count": 126,
   "metadata": {
    "papermill": {
     "duration": 0.17431,
     "end_time": "2018-09-17T20:26:23.089578",
     "exception": false,
     "start_time": "2018-09-17T20:26:22.915268",
     "status": "completed"
    },
    "tags": []
   },
   "outputs": [],
   "source": [
    "#%run /home/yuzhang/chxanalys_link/chxanalys/Create_Report.py"
   ]
  },
  {
   "cell_type": "code",
   "execution_count": 127,
   "metadata": {
    "papermill": {
     "duration": 0.216488,
     "end_time": "2018-09-17T20:26:23.326760",
     "exception": false,
     "start_time": "2018-09-17T20:26:23.110272",
     "status": "completed"
    },
    "tags": []
   },
   "outputs": [
    {
     "data": {
      "text/plain": [
       "'/XF11ID/analysis/2019_1/yuzhang/Results/7095d1b4-53a4-4104-836e-be43c8d476ad/'"
      ]
     },
     "execution_count": 127,
     "metadata": {},
     "output_type": "execute_result"
    }
   ],
   "source": [
    "data_dir"
   ]
  },
  {
   "cell_type": "code",
   "execution_count": 128,
   "metadata": {
    "papermill": {
     "duration": 0.372285,
     "end_time": "2018-09-17T20:26:23.702993",
     "exception": false,
     "start_time": "2018-09-17T20:26:23.330708",
     "status": "completed"
    },
    "tags": []
   },
   "outputs": [
    {
     "name": "stdout",
     "output_type": "stream",
     "text": [
      "\n",
      "****************************************\n",
      "The pdf report is created with filename as: /XF11ID/analysis/2019_1/yuzhang/Results/XPCS_Analysis_Report2_for_uid=7095d1b4_02-23-2019rings.pdf\n",
      "****************************************\n"
     ]
    }
   ],
   "source": [
    "make_pdf_report( data_dir, uid, pdf_out_dir, pdf_filename, username, \n",
    "                    run_fit_form,run_one_time, run_two_time, run_four_time, run_xsvs, run_dose,\n",
    "                report_type= scat_geometry, report_invariant= run_invariant_analysis,\n",
    "               md = md )"
   ]
  },
  {
   "cell_type": "markdown",
   "metadata": {
    "papermill": {
     "duration": 2.8e-05,
     "end_time": "2018-09-17T20:26:23.704137",
     "exception": false,
     "start_time": "2018-09-17T20:26:23.704109",
     "status": "completed"
    },
    "tags": []
   },
   "source": [
    "## Attach the PDF report to Olog "
   ]
  },
  {
   "cell_type": "code",
   "execution_count": 129,
   "metadata": {
    "papermill": {
     "duration": 0.152877,
     "end_time": "2018-09-17T20:26:24.123353",
     "exception": false,
     "start_time": "2018-09-17T20:26:23.970476",
     "status": "completed"
    },
    "tags": []
   },
   "outputs": [],
   "source": [
    "#%run  /home/yuzhang/chxanalys_link/chxanalys/chx_olog.py"
   ]
  },
  {
   "cell_type": "code",
   "execution_count": 130,
   "metadata": {
    "papermill": {
     "duration": 1.641526,
     "end_time": "2018-09-17T20:26:25.791545",
     "exception": false,
     "start_time": "2018-09-17T20:26:24.150019",
     "status": "completed"
    },
    "tags": []
   },
   "outputs": [
    {
     "name": "stdout",
     "output_type": "stream",
     "text": [
      "Append _R1 to the filename.\n"
     ]
    },
    {
     "ename": "ReadTimeout",
     "evalue": "HTTPSConnectionPool(host='logbook.nsls2.bnl.gov', port=443): Read timed out. (read timeout=30)",
     "output_type": "error",
     "traceback": [
      "\u001b[0;31m----------------------------------------\u001b[0m",
      "\u001b[0;31mtimeout\u001b[0mTraceback (most recent call last)",
      "\u001b[0;32m/opt/conda_envs/analysis-2019-1.2-chx/lib/python3.6/site-packages/urllib3/connectionpool.py\u001b[0m in \u001b[0;36m_make_request\u001b[0;34m(self, conn, method, url, timeout, chunked, **httplib_request_kw)\u001b[0m\n\u001b[1;32m    383\u001b[0m                     \u001b[0;31m# otherwise it looks like a programming error was the cause.\u001b[0m\u001b[0;34m\u001b[0m\u001b[0;34m\u001b[0m\u001b[0m\n\u001b[0;32m--> 384\u001b[0;31m                     \u001b[0msix\u001b[0m\u001b[0;34m.\u001b[0m\u001b[0mraise_from\u001b[0m\u001b[0;34m(\u001b[0m\u001b[0me\u001b[0m\u001b[0;34m,\u001b[0m \u001b[0;32mNone\u001b[0m\u001b[0;34m)\u001b[0m\u001b[0;34m\u001b[0m\u001b[0m\n\u001b[0m\u001b[1;32m    385\u001b[0m         \u001b[0;32mexcept\u001b[0m \u001b[0;34m(\u001b[0m\u001b[0mSocketTimeout\u001b[0m\u001b[0;34m,\u001b[0m \u001b[0mBaseSSLError\u001b[0m\u001b[0;34m,\u001b[0m \u001b[0mSocketError\u001b[0m\u001b[0;34m)\u001b[0m \u001b[0;32mas\u001b[0m \u001b[0me\u001b[0m\u001b[0;34m:\u001b[0m\u001b[0;34m\u001b[0m\u001b[0m\n",
      "\u001b[0;32m/opt/conda_envs/analysis-2019-1.2-chx/lib/python3.6/site-packages/urllib3/packages/six.py\u001b[0m in \u001b[0;36mraise_from\u001b[0;34m(value, from_value)\u001b[0m\n",
      "\u001b[0;32m/opt/conda_envs/analysis-2019-1.2-chx/lib/python3.6/site-packages/urllib3/connectionpool.py\u001b[0m in \u001b[0;36m_make_request\u001b[0;34m(self, conn, method, url, timeout, chunked, **httplib_request_kw)\u001b[0m\n\u001b[1;32m    379\u001b[0m                 \u001b[0;32mtry\u001b[0m\u001b[0;34m:\u001b[0m\u001b[0;34m\u001b[0m\u001b[0m\n\u001b[0;32m--> 380\u001b[0;31m                     \u001b[0mhttplib_response\u001b[0m \u001b[0;34m=\u001b[0m \u001b[0mconn\u001b[0m\u001b[0;34m.\u001b[0m\u001b[0mgetresponse\u001b[0m\u001b[0;34m(\u001b[0m\u001b[0;34m)\u001b[0m\u001b[0;34m\u001b[0m\u001b[0m\n\u001b[0m\u001b[1;32m    381\u001b[0m                 \u001b[0;32mexcept\u001b[0m \u001b[0mException\u001b[0m \u001b[0;32mas\u001b[0m \u001b[0me\u001b[0m\u001b[0;34m:\u001b[0m\u001b[0;34m\u001b[0m\u001b[0m\n",
      "\u001b[0;32m/opt/conda_envs/analysis-2019-1.2-chx/lib/python3.6/http/client.py\u001b[0m in \u001b[0;36mgetresponse\u001b[0;34m(self)\u001b[0m\n\u001b[1;32m   1330\u001b[0m             \u001b[0;32mtry\u001b[0m\u001b[0;34m:\u001b[0m\u001b[0;34m\u001b[0m\u001b[0m\n\u001b[0;32m-> 1331\u001b[0;31m                 \u001b[0mresponse\u001b[0m\u001b[0;34m.\u001b[0m\u001b[0mbegin\u001b[0m\u001b[0;34m(\u001b[0m\u001b[0;34m)\u001b[0m\u001b[0;34m\u001b[0m\u001b[0m\n\u001b[0m\u001b[1;32m   1332\u001b[0m             \u001b[0;32mexcept\u001b[0m \u001b[0mConnectionError\u001b[0m\u001b[0;34m:\u001b[0m\u001b[0;34m\u001b[0m\u001b[0m\n",
      "\u001b[0;32m/opt/conda_envs/analysis-2019-1.2-chx/lib/python3.6/http/client.py\u001b[0m in \u001b[0;36mbegin\u001b[0;34m(self)\u001b[0m\n\u001b[1;32m    296\u001b[0m         \u001b[0;32mwhile\u001b[0m \u001b[0;32mTrue\u001b[0m\u001b[0;34m:\u001b[0m\u001b[0;34m\u001b[0m\u001b[0m\n\u001b[0;32m--> 297\u001b[0;31m             \u001b[0mversion\u001b[0m\u001b[0;34m,\u001b[0m \u001b[0mstatus\u001b[0m\u001b[0;34m,\u001b[0m \u001b[0mreason\u001b[0m \u001b[0;34m=\u001b[0m \u001b[0mself\u001b[0m\u001b[0;34m.\u001b[0m\u001b[0m_read_status\u001b[0m\u001b[0;34m(\u001b[0m\u001b[0;34m)\u001b[0m\u001b[0;34m\u001b[0m\u001b[0m\n\u001b[0m\u001b[1;32m    298\u001b[0m             \u001b[0;32mif\u001b[0m \u001b[0mstatus\u001b[0m \u001b[0;34m!=\u001b[0m \u001b[0mCONTINUE\u001b[0m\u001b[0;34m:\u001b[0m\u001b[0;34m\u001b[0m\u001b[0m\n",
      "\u001b[0;32m/opt/conda_envs/analysis-2019-1.2-chx/lib/python3.6/http/client.py\u001b[0m in \u001b[0;36m_read_status\u001b[0;34m(self)\u001b[0m\n\u001b[1;32m    257\u001b[0m     \u001b[0;32mdef\u001b[0m \u001b[0m_read_status\u001b[0m\u001b[0;34m(\u001b[0m\u001b[0mself\u001b[0m\u001b[0;34m)\u001b[0m\u001b[0;34m:\u001b[0m\u001b[0;34m\u001b[0m\u001b[0m\n\u001b[0;32m--> 258\u001b[0;31m         \u001b[0mline\u001b[0m \u001b[0;34m=\u001b[0m \u001b[0mstr\u001b[0m\u001b[0;34m(\u001b[0m\u001b[0mself\u001b[0m\u001b[0;34m.\u001b[0m\u001b[0mfp\u001b[0m\u001b[0;34m.\u001b[0m\u001b[0mreadline\u001b[0m\u001b[0;34m(\u001b[0m\u001b[0m_MAXLINE\u001b[0m \u001b[0;34m+\u001b[0m \u001b[0;36m1\u001b[0m\u001b[0;34m)\u001b[0m\u001b[0;34m,\u001b[0m \u001b[0;34m\"iso-8859-1\"\u001b[0m\u001b[0;34m)\u001b[0m\u001b[0;34m\u001b[0m\u001b[0m\n\u001b[0m\u001b[1;32m    259\u001b[0m         \u001b[0;32mif\u001b[0m \u001b[0mlen\u001b[0m\u001b[0;34m(\u001b[0m\u001b[0mline\u001b[0m\u001b[0;34m)\u001b[0m \u001b[0;34m>\u001b[0m \u001b[0m_MAXLINE\u001b[0m\u001b[0;34m:\u001b[0m\u001b[0;34m\u001b[0m\u001b[0m\n",
      "\u001b[0;32m/opt/conda_envs/analysis-2019-1.2-chx/lib/python3.6/socket.py\u001b[0m in \u001b[0;36mreadinto\u001b[0;34m(self, b)\u001b[0m\n\u001b[1;32m    585\u001b[0m             \u001b[0;32mtry\u001b[0m\u001b[0;34m:\u001b[0m\u001b[0;34m\u001b[0m\u001b[0m\n\u001b[0;32m--> 586\u001b[0;31m                 \u001b[0;32mreturn\u001b[0m \u001b[0mself\u001b[0m\u001b[0;34m.\u001b[0m\u001b[0m_sock\u001b[0m\u001b[0;34m.\u001b[0m\u001b[0mrecv_into\u001b[0m\u001b[0;34m(\u001b[0m\u001b[0mb\u001b[0m\u001b[0;34m)\u001b[0m\u001b[0;34m\u001b[0m\u001b[0m\n\u001b[0m\u001b[1;32m    587\u001b[0m             \u001b[0;32mexcept\u001b[0m \u001b[0mtimeout\u001b[0m\u001b[0;34m:\u001b[0m\u001b[0;34m\u001b[0m\u001b[0m\n",
      "\u001b[0;32m/opt/conda_envs/analysis-2019-1.2-chx/lib/python3.6/site-packages/urllib3/contrib/pyopenssl.py\u001b[0m in \u001b[0;36mrecv_into\u001b[0;34m(self, *args, **kwargs)\u001b[0m\n\u001b[1;32m    297\u001b[0m             \u001b[0;32mif\u001b[0m \u001b[0;32mnot\u001b[0m \u001b[0mutil\u001b[0m\u001b[0;34m.\u001b[0m\u001b[0mwait_for_read\u001b[0m\u001b[0;34m(\u001b[0m\u001b[0mself\u001b[0m\u001b[0;34m.\u001b[0m\u001b[0msocket\u001b[0m\u001b[0;34m,\u001b[0m \u001b[0mself\u001b[0m\u001b[0;34m.\u001b[0m\u001b[0msocket\u001b[0m\u001b[0;34m.\u001b[0m\u001b[0mgettimeout\u001b[0m\u001b[0;34m(\u001b[0m\u001b[0;34m)\u001b[0m\u001b[0;34m)\u001b[0m\u001b[0;34m:\u001b[0m\u001b[0;34m\u001b[0m\u001b[0m\n\u001b[0;32m--> 298\u001b[0;31m                 \u001b[0;32mraise\u001b[0m \u001b[0mtimeout\u001b[0m\u001b[0;34m(\u001b[0m\u001b[0;34m'The read operation timed out'\u001b[0m\u001b[0;34m)\u001b[0m\u001b[0;34m\u001b[0m\u001b[0m\n\u001b[0m\u001b[1;32m    299\u001b[0m             \u001b[0;32melse\u001b[0m\u001b[0;34m:\u001b[0m\u001b[0;34m\u001b[0m\u001b[0m\n",
      "\u001b[0;31mtimeout\u001b[0m: The read operation timed out",
      "\nDuring handling of the above exception, another exception occurred:\n",
      "\u001b[0;31mReadTimeoutError\u001b[0mTraceback (most recent call last)",
      "\u001b[0;32m/opt/conda_envs/analysis-2019-1.2-chx/lib/python3.6/site-packages/requests/adapters.py\u001b[0m in \u001b[0;36msend\u001b[0;34m(self, request, stream, timeout, verify, cert, proxies)\u001b[0m\n\u001b[1;32m    448\u001b[0m                     \u001b[0mretries\u001b[0m\u001b[0;34m=\u001b[0m\u001b[0mself\u001b[0m\u001b[0;34m.\u001b[0m\u001b[0mmax_retries\u001b[0m\u001b[0;34m,\u001b[0m\u001b[0;34m\u001b[0m\u001b[0m\n\u001b[0;32m--> 449\u001b[0;31m                     \u001b[0mtimeout\u001b[0m\u001b[0;34m=\u001b[0m\u001b[0mtimeout\u001b[0m\u001b[0;34m\u001b[0m\u001b[0m\n\u001b[0m\u001b[1;32m    450\u001b[0m                 )\n",
      "\u001b[0;32m/opt/conda_envs/analysis-2019-1.2-chx/lib/python3.6/site-packages/urllib3/connectionpool.py\u001b[0m in \u001b[0;36murlopen\u001b[0;34m(self, method, url, body, headers, retries, redirect, assert_same_host, timeout, pool_timeout, release_conn, chunked, body_pos, **response_kw)\u001b[0m\n\u001b[1;32m    637\u001b[0m             retries = retries.increment(method, url, error=e, _pool=self,\n\u001b[0;32m--> 638\u001b[0;31m                                         _stacktrace=sys.exc_info()[2])\n\u001b[0m\u001b[1;32m    639\u001b[0m             \u001b[0mretries\u001b[0m\u001b[0;34m.\u001b[0m\u001b[0msleep\u001b[0m\u001b[0;34m(\u001b[0m\u001b[0;34m)\u001b[0m\u001b[0;34m\u001b[0m\u001b[0m\n",
      "\u001b[0;32m/opt/conda_envs/analysis-2019-1.2-chx/lib/python3.6/site-packages/urllib3/util/retry.py\u001b[0m in \u001b[0;36mincrement\u001b[0;34m(self, method, url, response, error, _pool, _stacktrace)\u001b[0m\n\u001b[1;32m    366\u001b[0m             \u001b[0;32mif\u001b[0m \u001b[0mread\u001b[0m \u001b[0;32mis\u001b[0m \u001b[0;32mFalse\u001b[0m \u001b[0;32mor\u001b[0m \u001b[0;32mnot\u001b[0m \u001b[0mself\u001b[0m\u001b[0;34m.\u001b[0m\u001b[0m_is_method_retryable\u001b[0m\u001b[0;34m(\u001b[0m\u001b[0mmethod\u001b[0m\u001b[0;34m)\u001b[0m\u001b[0;34m:\u001b[0m\u001b[0;34m\u001b[0m\u001b[0m\n\u001b[0;32m--> 367\u001b[0;31m                 \u001b[0;32mraise\u001b[0m \u001b[0msix\u001b[0m\u001b[0;34m.\u001b[0m\u001b[0mreraise\u001b[0m\u001b[0;34m(\u001b[0m\u001b[0mtype\u001b[0m\u001b[0;34m(\u001b[0m\u001b[0merror\u001b[0m\u001b[0;34m)\u001b[0m\u001b[0;34m,\u001b[0m \u001b[0merror\u001b[0m\u001b[0;34m,\u001b[0m \u001b[0m_stacktrace\u001b[0m\u001b[0;34m)\u001b[0m\u001b[0;34m\u001b[0m\u001b[0m\n\u001b[0m\u001b[1;32m    368\u001b[0m             \u001b[0;32melif\u001b[0m \u001b[0mread\u001b[0m \u001b[0;32mis\u001b[0m \u001b[0;32mnot\u001b[0m \u001b[0;32mNone\u001b[0m\u001b[0;34m:\u001b[0m\u001b[0;34m\u001b[0m\u001b[0m\n",
      "\u001b[0;32m/opt/conda_envs/analysis-2019-1.2-chx/lib/python3.6/site-packages/urllib3/packages/six.py\u001b[0m in \u001b[0;36mreraise\u001b[0;34m(tp, value, tb)\u001b[0m\n\u001b[1;32m    685\u001b[0m             \u001b[0;32mraise\u001b[0m \u001b[0mvalue\u001b[0m\u001b[0;34m.\u001b[0m\u001b[0mwith_traceback\u001b[0m\u001b[0;34m(\u001b[0m\u001b[0mtb\u001b[0m\u001b[0;34m)\u001b[0m\u001b[0;34m\u001b[0m\u001b[0m\n\u001b[0;32m--> 686\u001b[0;31m         \u001b[0;32mraise\u001b[0m \u001b[0mvalue\u001b[0m\u001b[0;34m\u001b[0m\u001b[0m\n\u001b[0m\u001b[1;32m    687\u001b[0m \u001b[0;34m\u001b[0m\u001b[0m\n",
      "\u001b[0;32m/opt/conda_envs/analysis-2019-1.2-chx/lib/python3.6/site-packages/urllib3/connectionpool.py\u001b[0m in \u001b[0;36murlopen\u001b[0;34m(self, method, url, body, headers, retries, redirect, assert_same_host, timeout, pool_timeout, release_conn, chunked, body_pos, **response_kw)\u001b[0m\n\u001b[1;32m    599\u001b[0m                                                   \u001b[0mbody\u001b[0m\u001b[0;34m=\u001b[0m\u001b[0mbody\u001b[0m\u001b[0;34m,\u001b[0m \u001b[0mheaders\u001b[0m\u001b[0;34m=\u001b[0m\u001b[0mheaders\u001b[0m\u001b[0;34m,\u001b[0m\u001b[0;34m\u001b[0m\u001b[0m\n\u001b[0;32m--> 600\u001b[0;31m                                                   chunked=chunked)\n\u001b[0m\u001b[1;32m    601\u001b[0m \u001b[0;34m\u001b[0m\u001b[0m\n",
      "\u001b[0;32m/opt/conda_envs/analysis-2019-1.2-chx/lib/python3.6/site-packages/urllib3/connectionpool.py\u001b[0m in \u001b[0;36m_make_request\u001b[0;34m(self, conn, method, url, timeout, chunked, **httplib_request_kw)\u001b[0m\n\u001b[1;32m    385\u001b[0m         \u001b[0;32mexcept\u001b[0m \u001b[0;34m(\u001b[0m\u001b[0mSocketTimeout\u001b[0m\u001b[0;34m,\u001b[0m \u001b[0mBaseSSLError\u001b[0m\u001b[0;34m,\u001b[0m \u001b[0mSocketError\u001b[0m\u001b[0;34m)\u001b[0m \u001b[0;32mas\u001b[0m \u001b[0me\u001b[0m\u001b[0;34m:\u001b[0m\u001b[0;34m\u001b[0m\u001b[0m\n\u001b[0;32m--> 386\u001b[0;31m             \u001b[0mself\u001b[0m\u001b[0;34m.\u001b[0m\u001b[0m_raise_timeout\u001b[0m\u001b[0;34m(\u001b[0m\u001b[0merr\u001b[0m\u001b[0;34m=\u001b[0m\u001b[0me\u001b[0m\u001b[0;34m,\u001b[0m \u001b[0murl\u001b[0m\u001b[0;34m=\u001b[0m\u001b[0murl\u001b[0m\u001b[0;34m,\u001b[0m \u001b[0mtimeout_value\u001b[0m\u001b[0;34m=\u001b[0m\u001b[0mread_timeout\u001b[0m\u001b[0;34m)\u001b[0m\u001b[0;34m\u001b[0m\u001b[0m\n\u001b[0m\u001b[1;32m    387\u001b[0m             \u001b[0;32mraise\u001b[0m\u001b[0;34m\u001b[0m\u001b[0m\n",
      "\u001b[0;32m/opt/conda_envs/analysis-2019-1.2-chx/lib/python3.6/site-packages/urllib3/connectionpool.py\u001b[0m in \u001b[0;36m_raise_timeout\u001b[0;34m(self, err, url, timeout_value)\u001b[0m\n\u001b[1;32m    305\u001b[0m         \u001b[0;32mif\u001b[0m \u001b[0misinstance\u001b[0m\u001b[0;34m(\u001b[0m\u001b[0merr\u001b[0m\u001b[0;34m,\u001b[0m \u001b[0mSocketTimeout\u001b[0m\u001b[0;34m)\u001b[0m\u001b[0;34m:\u001b[0m\u001b[0;34m\u001b[0m\u001b[0m\n\u001b[0;32m--> 306\u001b[0;31m             \u001b[0;32mraise\u001b[0m \u001b[0mReadTimeoutError\u001b[0m\u001b[0;34m(\u001b[0m\u001b[0mself\u001b[0m\u001b[0;34m,\u001b[0m \u001b[0murl\u001b[0m\u001b[0;34m,\u001b[0m \u001b[0;34m\"Read timed out. (read timeout=%s)\"\u001b[0m \u001b[0;34m%\u001b[0m \u001b[0mtimeout_value\u001b[0m\u001b[0;34m)\u001b[0m\u001b[0;34m\u001b[0m\u001b[0m\n\u001b[0m\u001b[1;32m    307\u001b[0m \u001b[0;34m\u001b[0m\u001b[0m\n",
      "\u001b[0;31mReadTimeoutError\u001b[0m: HTTPSConnectionPool(host='logbook.nsls2.bnl.gov', port=443): Read timed out. (read timeout=30)",
      "\nDuring handling of the above exception, another exception occurred:\n",
      "\u001b[0;31mReadTimeout\u001b[0mTraceback (most recent call last)",
      "\u001b[0;32m<ipython-input-130-f838e1c286d8>\u001b[0m in \u001b[0;36m<module>\u001b[0;34m\u001b[0m\n\u001b[1;32m      3\u001b[0m     \u001b[0mos\u001b[0m\u001b[0;34m.\u001b[0m\u001b[0menviron\u001b[0m\u001b[0;34m[\u001b[0m\u001b[0;34m'no_proxy'\u001b[0m\u001b[0;34m]\u001b[0m \u001b[0;34m=\u001b[0m \u001b[0;34m'cs.nsls2.local,localhost,127.0.0.1'\u001b[0m\u001b[0;34m\u001b[0m\u001b[0m\n\u001b[1;32m      4\u001b[0m     update_olog_uid_with_file( uid[:6], text='Add XPCS Analysis PDF Report', \n\u001b[0;32m----> 5\u001b[0;31m                               filename=pdf_out_dir + pdf_filename, append_name='_R1' )\n\u001b[0m",
      "\u001b[0;32m/opt/conda_envs/analysis-2019-1.2-chx/lib/python3.6/site-packages/pyCHX/chx_olog.py\u001b[0m in \u001b[0;36mupdate_olog_uid_with_file\u001b[0;34m(uid, text, filename, append_name, try_time)\u001b[0m\n\u001b[1;32m     35\u001b[0m         \u001b[0match\u001b[0m\u001b[0;34m=\u001b[0m\u001b[0;34m[\u001b[0m  \u001b[0mAttachment\u001b[0m\u001b[0;34m(\u001b[0m\u001b[0mopen\u001b[0m\u001b[0;34m(\u001b[0m\u001b[0mnpname\u001b[0m\u001b[0;34m,\u001b[0m \u001b[0;34m'rb'\u001b[0m\u001b[0;34m)\u001b[0m\u001b[0;34m)\u001b[0m \u001b[0;34m]\u001b[0m\u001b[0;34m\u001b[0m\u001b[0m\n\u001b[1;32m     36\u001b[0m         \u001b[0mprint\u001b[0m\u001b[0;34m(\u001b[0m\u001b[0;34m\"Append %s to the filename.\"\u001b[0m\u001b[0;34m%\u001b[0m\u001b[0mappend_name\u001b[0m\u001b[0;34m)\u001b[0m\u001b[0;34m\u001b[0m\u001b[0m\n\u001b[0;32m---> 37\u001b[0;31m         \u001b[0mupdate_olog_uid\u001b[0m\u001b[0;34m(\u001b[0m \u001b[0muid\u001b[0m\u001b[0;34m=\u001b[0m \u001b[0muid\u001b[0m\u001b[0;34m,\u001b[0m \u001b[0mtext\u001b[0m\u001b[0;34m=\u001b[0m \u001b[0mtext\u001b[0m\u001b[0;34m,\u001b[0m \u001b[0mattachments\u001b[0m\u001b[0;34m=\u001b[0m \u001b[0match\u001b[0m \u001b[0;34m)\u001b[0m\u001b[0;34m\u001b[0m\u001b[0m\n\u001b[0m\u001b[1;32m     38\u001b[0m \u001b[0;34m\u001b[0m\u001b[0m\n\u001b[1;32m     39\u001b[0m \u001b[0;34m\u001b[0m\u001b[0m\n",
      "\u001b[0;32m/opt/conda_envs/analysis-2019-1.2-chx/lib/python3.6/site-packages/pyCHX/chx_olog.py\u001b[0m in \u001b[0;36mupdate_olog_uid\u001b[0;34m(uid, text, attachments)\u001b[0m\n\u001b[1;32m    106\u001b[0m                                     username= 'xf11id', password= 'chx@11id' )\n\u001b[1;32m    107\u001b[0m \u001b[0;34m\u001b[0m\u001b[0m\n\u001b[0;32m--> 108\u001b[0;31m     \u001b[0mlogid\u001b[0m \u001b[0;34m=\u001b[0m \u001b[0molog_client\u001b[0m\u001b[0;34m.\u001b[0m\u001b[0mfind\u001b[0m\u001b[0;34m(\u001b[0m \u001b[0msearch\u001b[0m\u001b[0;34m=\u001b[0m \u001b[0;34m'*%s*'\u001b[0m\u001b[0;34m%\u001b[0m\u001b[0muid\u001b[0m \u001b[0;34m)\u001b[0m\u001b[0;34m[\u001b[0m\u001b[0;36m0\u001b[0m\u001b[0;34m]\u001b[0m\u001b[0;34m[\u001b[0m\u001b[0;34m'id'\u001b[0m\u001b[0;34m]\u001b[0m\u001b[0;34m\u001b[0m\u001b[0m\n\u001b[0m\u001b[1;32m    109\u001b[0m     \u001b[0;31m#print(attachments)\u001b[0m\u001b[0;34m\u001b[0m\u001b[0;34m\u001b[0m\u001b[0m\n\u001b[1;32m    110\u001b[0m     \u001b[0mupdate_olog_id\u001b[0m\u001b[0;34m(\u001b[0m \u001b[0mlogid\u001b[0m\u001b[0;34m,\u001b[0m \u001b[0mtext\u001b[0m\u001b[0;34m,\u001b[0m \u001b[0mattachments\u001b[0m\u001b[0;34m)\u001b[0m\u001b[0;34m\u001b[0m\u001b[0m\n",
      "\u001b[0;32m/opt/conda_envs/analysis-2019-1.2-chx/lib/python3.6/site-packages/pyOlog/SimpleOlogClient.py\u001b[0m in \u001b[0;36mfind\u001b[0;34m(self, **kwargs)\u001b[0m\n\u001b[1;32m    219\u001b[0m         \"\"\"\n\u001b[1;32m    220\u001b[0m \u001b[0;34m\u001b[0m\u001b[0m\n\u001b[0;32m--> 221\u001b[0;31m         \u001b[0mresults\u001b[0m \u001b[0;34m=\u001b[0m \u001b[0mself\u001b[0m\u001b[0;34m.\u001b[0m\u001b[0msession\u001b[0m\u001b[0;34m.\u001b[0m\u001b[0mfind\u001b[0m\u001b[0;34m(\u001b[0m\u001b[0;34m**\u001b[0m\u001b[0mkwargs\u001b[0m\u001b[0;34m)\u001b[0m\u001b[0;34m\u001b[0m\u001b[0m\n\u001b[0m\u001b[1;32m    222\u001b[0m         \u001b[0;32mreturn\u001b[0m \u001b[0;34m[\u001b[0m\u001b[0mlogentry_to_dict\u001b[0m\u001b[0;34m(\u001b[0m\u001b[0mresult\u001b[0m\u001b[0;34m)\u001b[0m \u001b[0;32mfor\u001b[0m \u001b[0mresult\u001b[0m \u001b[0;32min\u001b[0m \u001b[0mresults\u001b[0m\u001b[0;34m]\u001b[0m\u001b[0;34m\u001b[0m\u001b[0m\n\u001b[1;32m    223\u001b[0m \u001b[0;34m\u001b[0m\u001b[0m\n",
      "\u001b[0;32m/opt/conda_envs/analysis-2019-1.2-chx/lib/python3.6/site-packages/pyOlog/OlogClient.py\u001b[0m in \u001b[0;36mfind\u001b[0;34m(self, **kwds)\u001b[0m\n\u001b[1;32m    205\u001b[0m         \u001b[0mnamed\u001b[0m \u001b[0;34m'magnets'\u001b[0m\u001b[0;34m\u001b[0m\u001b[0m\n\u001b[1;32m    206\u001b[0m         '''\n\u001b[0;32m--> 207\u001b[0;31m         \u001b[0mresp\u001b[0m \u001b[0;34m=\u001b[0m \u001b[0mself\u001b[0m\u001b[0;34m.\u001b[0m\u001b[0m_get\u001b[0m\u001b[0;34m(\u001b[0m\u001b[0mself\u001b[0m\u001b[0;34m.\u001b[0m\u001b[0mlogs_resource\u001b[0m\u001b[0;34m,\u001b[0m \u001b[0mparams\u001b[0m\u001b[0;34m=\u001b[0m\u001b[0mOrderedDict\u001b[0m\u001b[0;34m(\u001b[0m\u001b[0mkwds\u001b[0m\u001b[0;34m)\u001b[0m\u001b[0;34m)\u001b[0m\u001b[0;34m\u001b[0m\u001b[0m\n\u001b[0m\u001b[1;32m    208\u001b[0m \u001b[0;34m\u001b[0m\u001b[0m\n\u001b[1;32m    209\u001b[0m         \u001b[0mlogs\u001b[0m \u001b[0;34m=\u001b[0m \u001b[0;34m[\u001b[0m\u001b[0;34m]\u001b[0m\u001b[0;34m\u001b[0m\u001b[0m\n",
      "\u001b[0;32m/opt/conda_envs/analysis-2019-1.2-chx/lib/python3.6/site-packages/pyOlog/OlogClient.py\u001b[0m in \u001b[0;36m_get\u001b[0;34m(self, url, timeout, **kwargs)\u001b[0m\n\u001b[1;32m     95\u001b[0m         \u001b[0mlogger\u001b[0m\u001b[0;34m.\u001b[0m\u001b[0mdebug\u001b[0m\u001b[0;34m(\u001b[0m\u001b[0;34m\"HTTP GET to %s\"\u001b[0m\u001b[0;34m,\u001b[0m \u001b[0mself\u001b[0m\u001b[0;34m.\u001b[0m\u001b[0m_url\u001b[0m \u001b[0;34m+\u001b[0m \u001b[0murl\u001b[0m\u001b[0;34m)\u001b[0m\u001b[0;34m\u001b[0m\u001b[0m\n\u001b[1;32m     96\u001b[0m         \u001b[0mkwargs\u001b[0m\u001b[0;34m.\u001b[0m\u001b[0mupdate\u001b[0m\u001b[0;34m(\u001b[0m\u001b[0;34m{\u001b[0m\u001b[0;34m'headers'\u001b[0m\u001b[0;34m:\u001b[0m \u001b[0mself\u001b[0m\u001b[0;34m.\u001b[0m\u001b[0mjson_header\u001b[0m\u001b[0;34m}\u001b[0m\u001b[0;34m)\u001b[0m\u001b[0;34m\u001b[0m\u001b[0m\n\u001b[0;32m---> 97\u001b[0;31m         \u001b[0mresp\u001b[0m \u001b[0;34m=\u001b[0m \u001b[0mself\u001b[0m\u001b[0;34m.\u001b[0m\u001b[0m_session\u001b[0m\u001b[0;34m.\u001b[0m\u001b[0mget\u001b[0m\u001b[0;34m(\u001b[0m\u001b[0mself\u001b[0m\u001b[0;34m.\u001b[0m\u001b[0m_url\u001b[0m \u001b[0;34m+\u001b[0m \u001b[0murl\u001b[0m\u001b[0;34m,\u001b[0m \u001b[0mtimeout\u001b[0m\u001b[0;34m=\u001b[0m\u001b[0mtimeout\u001b[0m\u001b[0;34m,\u001b[0m \u001b[0mstream\u001b[0m\u001b[0;34m=\u001b[0m\u001b[0;32mFalse\u001b[0m\u001b[0;34m,\u001b[0m \u001b[0;34m**\u001b[0m\u001b[0mkwargs\u001b[0m\u001b[0;34m)\u001b[0m\u001b[0;34m\u001b[0m\u001b[0m\n\u001b[0m\u001b[1;32m     98\u001b[0m         \u001b[0mresp\u001b[0m\u001b[0;34m.\u001b[0m\u001b[0mraise_for_status\u001b[0m\u001b[0;34m(\u001b[0m\u001b[0;34m)\u001b[0m\u001b[0;34m\u001b[0m\u001b[0m\n\u001b[1;32m     99\u001b[0m         \u001b[0;32mreturn\u001b[0m \u001b[0mresp\u001b[0m\u001b[0;34m\u001b[0m\u001b[0m\n",
      "\u001b[0;32m/opt/conda_envs/analysis-2019-1.2-chx/lib/python3.6/site-packages/requests/sessions.py\u001b[0m in \u001b[0;36mget\u001b[0;34m(self, url, **kwargs)\u001b[0m\n\u001b[1;32m    544\u001b[0m \u001b[0;34m\u001b[0m\u001b[0m\n\u001b[1;32m    545\u001b[0m         \u001b[0mkwargs\u001b[0m\u001b[0;34m.\u001b[0m\u001b[0msetdefault\u001b[0m\u001b[0;34m(\u001b[0m\u001b[0;34m'allow_redirects'\u001b[0m\u001b[0;34m,\u001b[0m \u001b[0;32mTrue\u001b[0m\u001b[0;34m)\u001b[0m\u001b[0;34m\u001b[0m\u001b[0m\n\u001b[0;32m--> 546\u001b[0;31m         \u001b[0;32mreturn\u001b[0m \u001b[0mself\u001b[0m\u001b[0;34m.\u001b[0m\u001b[0mrequest\u001b[0m\u001b[0;34m(\u001b[0m\u001b[0;34m'GET'\u001b[0m\u001b[0;34m,\u001b[0m \u001b[0murl\u001b[0m\u001b[0;34m,\u001b[0m \u001b[0;34m**\u001b[0m\u001b[0mkwargs\u001b[0m\u001b[0;34m)\u001b[0m\u001b[0;34m\u001b[0m\u001b[0m\n\u001b[0m\u001b[1;32m    547\u001b[0m \u001b[0;34m\u001b[0m\u001b[0m\n\u001b[1;32m    548\u001b[0m     \u001b[0;32mdef\u001b[0m \u001b[0moptions\u001b[0m\u001b[0;34m(\u001b[0m\u001b[0mself\u001b[0m\u001b[0;34m,\u001b[0m \u001b[0murl\u001b[0m\u001b[0;34m,\u001b[0m \u001b[0;34m**\u001b[0m\u001b[0mkwargs\u001b[0m\u001b[0;34m)\u001b[0m\u001b[0;34m:\u001b[0m\u001b[0;34m\u001b[0m\u001b[0m\n",
      "\u001b[0;32m/opt/conda_envs/analysis-2019-1.2-chx/lib/python3.6/site-packages/requests/sessions.py\u001b[0m in \u001b[0;36mrequest\u001b[0;34m(self, method, url, params, data, headers, cookies, files, auth, timeout, allow_redirects, proxies, hooks, stream, verify, cert, json)\u001b[0m\n\u001b[1;32m    531\u001b[0m         }\n\u001b[1;32m    532\u001b[0m         \u001b[0msend_kwargs\u001b[0m\u001b[0;34m.\u001b[0m\u001b[0mupdate\u001b[0m\u001b[0;34m(\u001b[0m\u001b[0msettings\u001b[0m\u001b[0;34m)\u001b[0m\u001b[0;34m\u001b[0m\u001b[0m\n\u001b[0;32m--> 533\u001b[0;31m         \u001b[0mresp\u001b[0m \u001b[0;34m=\u001b[0m \u001b[0mself\u001b[0m\u001b[0;34m.\u001b[0m\u001b[0msend\u001b[0m\u001b[0;34m(\u001b[0m\u001b[0mprep\u001b[0m\u001b[0;34m,\u001b[0m \u001b[0;34m**\u001b[0m\u001b[0msend_kwargs\u001b[0m\u001b[0;34m)\u001b[0m\u001b[0;34m\u001b[0m\u001b[0m\n\u001b[0m\u001b[1;32m    534\u001b[0m \u001b[0;34m\u001b[0m\u001b[0m\n\u001b[1;32m    535\u001b[0m         \u001b[0;32mreturn\u001b[0m \u001b[0mresp\u001b[0m\u001b[0;34m\u001b[0m\u001b[0m\n",
      "\u001b[0;32m/opt/conda_envs/analysis-2019-1.2-chx/lib/python3.6/site-packages/requests/sessions.py\u001b[0m in \u001b[0;36msend\u001b[0;34m(self, request, **kwargs)\u001b[0m\n\u001b[1;32m    644\u001b[0m \u001b[0;34m\u001b[0m\u001b[0m\n\u001b[1;32m    645\u001b[0m         \u001b[0;31m# Send the request\u001b[0m\u001b[0;34m\u001b[0m\u001b[0;34m\u001b[0m\u001b[0m\n\u001b[0;32m--> 646\u001b[0;31m         \u001b[0mr\u001b[0m \u001b[0;34m=\u001b[0m \u001b[0madapter\u001b[0m\u001b[0;34m.\u001b[0m\u001b[0msend\u001b[0m\u001b[0;34m(\u001b[0m\u001b[0mrequest\u001b[0m\u001b[0;34m,\u001b[0m \u001b[0;34m**\u001b[0m\u001b[0mkwargs\u001b[0m\u001b[0;34m)\u001b[0m\u001b[0;34m\u001b[0m\u001b[0m\n\u001b[0m\u001b[1;32m    647\u001b[0m \u001b[0;34m\u001b[0m\u001b[0m\n\u001b[1;32m    648\u001b[0m         \u001b[0;31m# Total elapsed time of the request (approximately)\u001b[0m\u001b[0;34m\u001b[0m\u001b[0;34m\u001b[0m\u001b[0m\n",
      "\u001b[0;32m/opt/conda_envs/analysis-2019-1.2-chx/lib/python3.6/site-packages/requests/adapters.py\u001b[0m in \u001b[0;36msend\u001b[0;34m(self, request, stream, timeout, verify, cert, proxies)\u001b[0m\n\u001b[1;32m    527\u001b[0m                 \u001b[0;32mraise\u001b[0m \u001b[0mSSLError\u001b[0m\u001b[0;34m(\u001b[0m\u001b[0me\u001b[0m\u001b[0;34m,\u001b[0m \u001b[0mrequest\u001b[0m\u001b[0;34m=\u001b[0m\u001b[0mrequest\u001b[0m\u001b[0;34m)\u001b[0m\u001b[0;34m\u001b[0m\u001b[0m\n\u001b[1;32m    528\u001b[0m             \u001b[0;32melif\u001b[0m \u001b[0misinstance\u001b[0m\u001b[0;34m(\u001b[0m\u001b[0me\u001b[0m\u001b[0;34m,\u001b[0m \u001b[0mReadTimeoutError\u001b[0m\u001b[0;34m)\u001b[0m\u001b[0;34m:\u001b[0m\u001b[0;34m\u001b[0m\u001b[0m\n\u001b[0;32m--> 529\u001b[0;31m                 \u001b[0;32mraise\u001b[0m \u001b[0mReadTimeout\u001b[0m\u001b[0;34m(\u001b[0m\u001b[0me\u001b[0m\u001b[0;34m,\u001b[0m \u001b[0mrequest\u001b[0m\u001b[0;34m=\u001b[0m\u001b[0mrequest\u001b[0m\u001b[0;34m)\u001b[0m\u001b[0;34m\u001b[0m\u001b[0m\n\u001b[0m\u001b[1;32m    530\u001b[0m             \u001b[0;32melse\u001b[0m\u001b[0;34m:\u001b[0m\u001b[0;34m\u001b[0m\u001b[0m\n\u001b[1;32m    531\u001b[0m                 \u001b[0;32mraise\u001b[0m\u001b[0;34m\u001b[0m\u001b[0m\n",
      "\u001b[0;31mReadTimeout\u001b[0m: HTTPSConnectionPool(host='logbook.nsls2.bnl.gov', port=443): Read timed out. (read timeout=30)"
     ]
    }
   ],
   "source": [
    "if att_pdf_report:     \n",
    "    os.environ['HTTPS_PROXY'] = 'https://proxy:8888'\n",
    "    os.environ['no_proxy'] = 'cs.nsls2.local,localhost,127.0.0.1'\n",
    "    update_olog_uid_with_file( uid[:6], text='Add XPCS Analysis PDF Report', \n",
    "                              filename=pdf_out_dir + pdf_filename, append_name='_R1' )"
   ]
  },
  {
   "cell_type": "markdown",
   "metadata": {},
   "source": [
    "## Save the OVA image"
   ]
  },
  {
   "cell_type": "code",
   "execution_count": 131,
   "metadata": {},
   "outputs": [],
   "source": [
    "if save_oavs:\n",
    "    os.environ['HTTPS_PROXY'] = 'https://proxy:8888'\n",
    "    os.environ['no_proxy'] = 'cs.nsls2.local,localhost,127.0.0.1'\n",
    "    update_olog_uid_with_file( uid[:6], text='Add OVA images', \n",
    "                              filename= data_dir + 'uid=%s_OVA_images.png'%uid, append_name='_img' )\n",
    "       # except:"
   ]
  },
  {
   "cell_type": "markdown",
   "metadata": {
    "papermill": {
     "duration": 3e-05,
     "end_time": "2018-09-17T20:26:25.792721",
     "exception": false,
     "start_time": "2018-09-17T20:26:25.792691",
     "status": "completed"
    },
    "tags": []
   },
   "source": [
    "# The End!"
   ]
  }
 ],
 "metadata": {
  "celltoolbar": "Tags",
  "kernelspec": {
   "display_name": "Python 3",
   "language": "python",
   "name": "python3"
  },
  "language_info": {
   "codemirror_mode": {
    "name": "ipython",
    "version": 3
   },
   "file_extension": ".py",
   "mimetype": "text/x-python",
   "name": "python",
   "nbconvert_exporter": "python",
   "pygments_lexer": "ipython3",
   "version": "3.6.6"
  },
  "papermill": {
   "duration": 191.885316,
   "end_time": "2018-09-17T20:26:28.868111",
   "environment_variables": {},
   "exception": false,
   "output_path": "XPCS_Single_2018_V13_uid=cc08d718-0031.ipynb",
   "parameters": {
    "uid": "cc08d718-0031"
   },
   "start_time": "2018-09-17T20:23:16.982795",
   "version": "0.15.0"
  }
 },
 "nbformat": 4,
 "nbformat_minor": 2
}
